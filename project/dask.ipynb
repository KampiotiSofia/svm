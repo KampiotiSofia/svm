{
 "cells": [
  {
   "cell_type": "code",
   "execution_count": 1,
   "metadata": {
    "scrolled": true
   },
   "outputs": [
    {
     "name": "stdout",
     "output_type": "stream",
     "text": [
      "<Client: 'tcp://127.0.0.1:34896' processes=9 threads=9, memory=33.69 GB>\n"
     ]
    },
    {
     "data": {
      "text/html": [
       "<table style=\"border: 2px solid white;\">\n",
       "<tr>\n",
       "<td style=\"vertical-align: top; border: 0px solid white\">\n",
       "<h3 style=\"text-align: left;\">Client</h3>\n",
       "<ul style=\"text-align: left; list-style: none; margin: 0; padding: 0;\">\n",
       "  <li><b>Scheduler: </b>tcp://127.0.0.1:34896</li>\n",
       "  <li><b>Dashboard: </b><a href='http://127.0.0.1:8787/status' target='_blank'>http://127.0.0.1:8787/status</a>\n",
       "</ul>\n",
       "</td>\n",
       "<td style=\"vertical-align: top; border: 0px solid white\">\n",
       "<h3 style=\"text-align: left;\">Cluster</h3>\n",
       "<ul style=\"text-align: left; list-style:none; margin: 0; padding: 0;\">\n",
       "  <li><b>Workers: </b>9</li>\n",
       "  <li><b>Cores: </b>9</li>\n",
       "  <li><b>Memory: </b>33.69 GB</li>\n",
       "</ul>\n",
       "</td>\n",
       "</tr>\n",
       "</table>"
      ],
      "text/plain": [
       "<Client: 'tcp://127.0.0.1:34896' processes=9 threads=9, memory=33.69 GB>"
      ]
     },
     "execution_count": 1,
     "metadata": {},
     "output_type": "execute_result"
    }
   ],
   "source": [
    "from client import start_client\n",
    "import matplotlib.pyplot as plt\n",
    "import numpy as np\n",
    "import time\n",
    "from matplotlib.pyplot import figure\n",
    "from main_func import main,real_partial\n",
    "from jupyterthemes import jtplot\n",
    "\n",
    "client,w=start_client(9)\n",
    "client"
   ]
  },
  {
   "cell_type": "markdown",
   "metadata": {},
   "source": [
    "### Main function\n",
    "- make_classification parameters: https://scikit-learn.org/stable/modules/generated/sklearn.datasets.make_classification.html?highlight=make_classification#sklearn.datasets.make_classification\n",
    "- choose e, and chunk size\n",
    "- run multiple times to produce plots\n"
   ]
  },
  {
   "cell_type": "markdown",
   "metadata": {},
   "source": [
    "### Initialize\n",
    "***"
   ]
  },
  {
   "cell_type": "code",
   "execution_count": 2,
   "metadata": {},
   "outputs": [],
   "source": [
    "jtplot.style(theme='grade3') #light plot theme\n",
    "\n",
    "batches=1000 #number of minibatches\n",
    "batch_size=1 #size of each minibatch\n",
    "e=0.01 #tolerance for φ(χ)\n",
    "\n",
    "#compute samples size\n",
    "training_s=batches*batch_size\n",
    "n_samples=int(3*training_s/2) # 1/3 of the samples will be used for testing\n",
    "\n",
    "#parameters for make classification\n",
    "dataset_params={\n",
    "    \"n_samples\":n_samples,\n",
    "    \"n_features\":10,\n",
    "    \"n_informative\":10,\n",
    "    \"n_redundant\":0,\n",
    "    \"n_repeated\":0,\n",
    "    \"n_classes\":2,\n",
    "    \"n_clusters_per_class\":1,\n",
    "    \"flip_y\":0,\n",
    "    \"weights\":[0.5,0.5],\n",
    "    \"random_state\":17\n",
    "}\n",
    "e_array=[0.01,0.03,0.05]\n",
    "minibaches=[1000,500,150]\n",
    "new=\"yes\" #choose if you want to recreate the dataset"
   ]
  },
  {
   "cell_type": "code",
   "execution_count": 3,
   "metadata": {
    "scrolled": false
   },
   "outputs": [
    {
     "name": "stdout",
     "output_type": "stream",
     "text": [
      "Start with num of mini-batches: 1000 and e: 0.01\n",
      "A new dataset has been created...\n",
      "[['X_95', 'X_4', 'X_8', 'X_35', 'X_81', 'X_18', 'X_89', 'X_39', 'X_98', 'X_42', 'X_41', 'X_69', 'X_71'], ['X_92', 'X_62', 'X_64', 'X_9', 'X_57', 'X_16', 'X_51', 'X_21', 'X_61', 'X_37', 'X_1', 'X_45', 'X_31'], ['X_24', 'X_23', 'X_79', 'X_6', 'X_22', 'X_88', 'X_15', 'X_77', 'X_99', 'X_73', 'X_56', 'X_12', 'X_28'], ['X_3', 'X_83', 'X_50', 'X_30', 'X_36', 'X_44', 'X_34', 'X_96', 'X_87', 'X_58', 'X_68', 'X_7', 'X_43'], ['X_52', 'X_47', 'X_76', 'X_10', 'X_93', 'X_100', 'X_60', 'X_54', 'X_65', 'X_84', 'X_70', 'X_55', 'X_85'], ['X_75', 'X_74', 'X_80', 'X_14', 'X_66', 'X_25', 'X_46', 'X_63', 'X_53', 'X_86', 'X_40', 'X_49', 'X_33'], ['X_32', 'X_19', 'X_26', 'X_27', 'X_90', 'X_2', 'X_29', 'X_67', 'X_38', 'X_59', 'X_13', 'X_78', 'X_5'], ['X_17', 'X_20', 'X_11', 'X_82', 'X_97', 'X_91', 'X_48', 'X_94', 'X_72']]\n",
      "In progress...\n",
      "['  File \"/home/skampioti/svm/project/worker_file.py\", line 90, in worker_f\\n    X,y=get_chunk(name,count_chunks) #get_newSi(count_chunks,f_name)\\n', '  File \"/home/skampioti/svm/project/func.py\", line 195, in get_chunk\\n    X_assign=np.load(\"X_assign.npy\")\\n', '  File \"/home/skampioti/anaconda3/lib/python3.7/site-packages/numpy/lib/npyio.py\", line 453, in load\\n    pickle_kwargs=pickle_kwargs)\\n', '  File \"/home/skampioti/anaconda3/lib/python3.7/site-packages/numpy/lib/format.py\", line 739, in read_array\\n    raise ValueError(\"Object arrays cannot be loaded when \"\\n']\n"
     ]
    },
    {
     "ename": "TypeError",
     "evalue": "cannot unpack non-iterable NoneType object",
     "output_type": "error",
     "traceback": [
      "\u001b[0;31m---------------------------------------------------------------------------\u001b[0m",
      "\u001b[0;31mTypeError\u001b[0m                                 Traceback (most recent call last)",
      "\u001b[0;32m<ipython-input-3-f8bed7a0a395>\u001b[0m in \u001b[0;36m<module>\u001b[0;34m\u001b[0m\n\u001b[0;32m----> 1\u001b[0;31m \u001b[0mE_array\u001b[0m\u001b[0;34m,\u001b[0m\u001b[0mfeature_array\u001b[0m\u001b[0;34m,\u001b[0m\u001b[0mAcc\u001b[0m\u001b[0;34m,\u001b[0m\u001b[0mRounds\u001b[0m\u001b[0;34m,\u001b[0m\u001b[0mSubs\u001b[0m\u001b[0;34m=\u001b[0m\u001b[0mmain\u001b[0m\u001b[0;34m(\u001b[0m\u001b[0mclient\u001b[0m\u001b[0;34m,\u001b[0m\u001b[0mw\u001b[0m\u001b[0;34m,\u001b[0m\u001b[0mnew\u001b[0m\u001b[0;34m,\u001b[0m\u001b[0mdataset_params\u001b[0m\u001b[0;34m,\u001b[0m\u001b[0mbatches\u001b[0m\u001b[0;34m,\u001b[0m\u001b[0me\u001b[0m\u001b[0;34m,\u001b[0m\u001b[0;34m\"balanced\"\u001b[0m\u001b[0;34m)\u001b[0m\u001b[0;34m\u001b[0m\u001b[0;34m\u001b[0m\u001b[0m\n\u001b[0m",
      "\u001b[0;31mTypeError\u001b[0m: cannot unpack non-iterable NoneType object"
     ]
    }
   ],
   "source": [
    "E_array,feature_array,Acc,Rounds,Subs=main(client,w,new,dataset_params,batches,e,\"balanced\")"
   ]
  },
  {
   "cell_type": "markdown",
   "metadata": {},
   "source": [
    "### Dataset with no noise flip_y=0\n",
    "***\n",
    "#### Balanced\n",
    "- weights=[0.5,0,5]"
   ]
  },
  {
   "cell_type": "code",
   "execution_count": null,
   "metadata": {},
   "outputs": [],
   "source": [
    "# 3 different e\n",
    "new=\"yes\"\n",
    "dataset_params[\"weights\"]=[0.5,0.5]\n",
    "Bal_acc_e=[]\n",
    "Bal_rounds_e=[]\n",
    "bal_e_time=[]\n",
    "\n",
    "for i in e_array :\n",
    "    e=i\n",
    "    start_time = time.time()\n",
    "    E_array,feature_array,Acc,Rounds,Subs=main(client,w,new,dataset_params,500,e,\"balanced\")\n",
    "    end_time = time.time()\n",
    "    new=\"no\"\n",
    "    bal_e_time.append(end_time-start_time)\n",
    "    Bal_acc_e.append(Acc)\n",
    "    Bal_rounds_e.append(Rounds)\n",
    "# 3 different bach_sizes\n",
    "Bal_acc_b=[]\n",
    "Bal_rounds_b=[]\n",
    "bal_b_time=[]\n",
    "\n",
    "# for i in minibaches:\n",
    "#     e=0.01\n",
    "#     batches=i\n",
    "#     start_time = time.time()\n",
    "#     E_array,feature_array,Acc,Rounds,Subs=main(client,w,new,dataset_params,batches,e,\"balanced\")\n",
    "#     end_time = time.time()\n",
    "#     bal_b_time.append(end_time-start_time)\n",
    "#     Bal_acc_b.append(Acc)\n",
    "#     Bal_rounds_b.append(Rounds)\n",
    "    "
   ]
  },
  {
   "cell_type": "code",
   "execution_count": null,
   "metadata": {},
   "outputs": [],
   "source": [
    "E_real1,Acc_real1=real_partial(100)\n",
    "len_real1=np.array([i for i in range(len(Acc_real1))])"
   ]
  },
  {
   "cell_type": "markdown",
   "metadata": {},
   "source": [
    "#### Unbalanced\n",
    "***\n",
    "- weights=[0.9,0.1]"
   ]
  },
  {
   "cell_type": "code",
   "execution_count": null,
   "metadata": {},
   "outputs": [],
   "source": [
    "# 3 different e\n",
    "new=\"yes\"\n",
    "dataset_params[\"weights\"]=[0.9,0.1]\n",
    "UnBal_acc_e=[]\n",
    "UnBal_rounds_e=[]\n",
    "unbal_e_time=[]\n",
    "for i in e_array:\n",
    "    e=i\n",
    "    start_time = time.time()\n",
    "    E_array,feature_array,Acc,Rounds,Subs=main(client,w,new,dataset_params,500,e,\"Unbalanced\")\n",
    "    end_time = time.time()\n",
    "    unbal_e_time.append(end_time-start_time)\n",
    "    new=\"no\"\n",
    "    UnBal_acc_e.append(Acc)\n",
    "    UnBal_rounds_e.append(Rounds)\n",
    "# 3 different bach_sizes\n",
    "UnBal_acc_b=[]\n",
    "UnBal_rounds_b=[]\n",
    "unbal_b_time=[]\n",
    "for i in minibaches:\n",
    "    e=0.01\n",
    "    batches=i\n",
    "    start_time = time.time()\n",
    "    E_array,feature_array,Acc,Rounds,Subs=main(client,w,new,dataset_params,batches,e,\"Unbalanced\")\n",
    "    end_time = time.time()\n",
    "    unbal_b_time.append(end_time-start_time)\n",
    "    UnBal_acc_b.append(Acc)\n",
    "    UnBal_rounds_b.append(Rounds)"
   ]
  },
  {
   "cell_type": "markdown",
   "metadata": {},
   "source": [
    "#### Real"
   ]
  },
  {
   "cell_type": "code",
   "execution_count": null,
   "metadata": {},
   "outputs": [],
   "source": [
    "E_real2,Acc_real2=real_partial(500)\n",
    "len_real2=np.array([i for i in range(len(Acc_real2))])"
   ]
  },
  {
   "cell_type": "markdown",
   "metadata": {},
   "source": [
    "### Plots\n",
    "***\n",
    "- No noise"
   ]
  },
  {
   "cell_type": "code",
   "execution_count": null,
   "metadata": {},
   "outputs": [],
   "source": [
    "#1.1.a balanced acc-rounds /e (multiple lines one for each e)\n",
    "figure(figsize=(15,15)) \n",
    "plt.subplot(221)\n",
    "plt.plot(Bal_rounds_e[0], Bal_acc_e[0],label=e_array[0],marker='o')\n",
    "plt.plot(Bal_rounds_e[1], Bal_acc_e[1],label=e_array[1],marker='o')\n",
    "plt.plot(Bal_rounds_e[2], Bal_acc_e[2],label=e_array[2],marker='o')\n",
    "plt.xlabel(\"Rounds\")\n",
    "plt.ylabel(\"Accuracy\")\n",
    "plt.title('1.1.a Accuracy/Rounds for different e \\n in a no noise balanced dataset')\n",
    "plt.legend();\n",
    "\n",
    "plt.subplot(222)\n",
    "plt.plot(Bal_rounds_b[0], Bal_acc_b[0],label=minibaches[0],marker='o')\n",
    "plt.plot(Bal_rounds_b[1], Bal_acc_b[1],label=minibaches[1],marker='o')\n",
    "plt.plot(Bal_rounds_b[2], Bal_acc_b[2],label=minibaches[2],marker='o')\n",
    "plt.xlabel(\"Rounds\")\n",
    "plt.ylabel(\"Accuracy\")\n",
    "plt.title('1.1.b Accuracy/Rounds for different number of minibatches \\n in a no noise balanced dataset')\n",
    "plt.legend();\n",
    "\n",
    "#1.2.a unbalanced acc-rounds (multiple lines one for each e)\n",
    "plt.subplot(223)\n",
    "plt.plot(UnBal_rounds_e[0], UnBal_acc_e[0],label=e_array[0],marker='o')\n",
    "plt.plot(UnBal_rounds_e[1], UnBal_acc_e[1],label=e_array[1],marker='o')\n",
    "plt.plot(UnBal_rounds_e[2], UnBal_acc_e[2],label=e_array[2],marker='o')\n",
    "plt.xlabel(\"Rounds\")\n",
    "plt.ylabel(\"Accuracy\")\n",
    "plt.title('1.2.a Accuracy/Rounds for different e \\n in a no noise Unbalanced dataset')\n",
    "plt.legend();\n",
    "\n",
    "#1.2.b unbalanced acc-rounds /baches (multiple lines)\n",
    "plt.subplot(224)\n",
    "plt.plot(UnBal_rounds_b[0], UnBal_acc_b[0],label=minibaches[0],marker='o')\n",
    "plt.plot(UnBal_rounds_b[1], UnBal_acc_b[1],label=minibaches[1],marker='o')\n",
    "plt.plot(UnBal_rounds_b[2], UnBal_acc_b[2],label=minibaches[2],marker='o')\n",
    "plt.xlabel(\"Rounds\")\n",
    "plt.ylabel(\"Accuracy\")\n",
    "plt.title('1.2.b Accuracy/Rounds for different number of minibatches \\n in a no noise Unbalanced dataset')\n",
    "plt.legend();\n",
    "name=\"Plots/Exper_NoNoise_w_\"+str(len(w))+\"_samples_\"+str(dataset_params[\"n_samples\"])+\"_features_\"+str(dataset_params[\"n_features\"])+\"_minibaches_\"+str(minibaches)+\"_e_\"+str(e_array)+\"_a.png\"\n",
    "plt.savefig(name)\n",
    "plt.show();\n"
   ]
  },
  {
   "cell_type": "markdown",
   "metadata": {},
   "source": [
    "### Plot centralized "
   ]
  },
  {
   "cell_type": "code",
   "execution_count": null,
   "metadata": {
    "scrolled": false
   },
   "outputs": [],
   "source": [
    "\n",
    "plt.plot(len_real1,Acc_real1,label=\"balanced\")\n",
    "plt.plot(len_real2,Acc_real2,label=\"unbalanced\")\n",
    "plt.xlabel(\"Rounds\")\n",
    "plt.ylabel(\"Accuracy\")\n",
    "plt.title('Centralized behaviour')\n",
    "plt.legend();\n",
    "name=\"Plots/Exper_NoNoise_w_\"+str(len(w))+\"_samples_\"+str(dataset_params[\"n_samples\"])+\"_features_\"+str(dataset_params[\"n_features\"])+\"_minibaches_\"+str(minibaches)+\"_e_\"+str(e_array)+\"_b.png\"\n",
    "plt.savefig(name)\n",
    "plt.show();\n"
   ]
  },
  {
   "cell_type": "markdown",
   "metadata": {},
   "source": [
    "### Plot time "
   ]
  },
  {
   "cell_type": "code",
   "execution_count": null,
   "metadata": {
    "scrolled": false
   },
   "outputs": [],
   "source": [
    "\n",
    "figure(figsize=(12,5))\n",
    "\n",
    "plt.subplot(121)\n",
    "plt.plot(e_array,[x / 60 for x in bal_e_time],label=\"balanced\",marker='D')\n",
    "plt.plot(e_array,[x / 60 for x in unbal_e_time],label=\"unbalanced\",marker='o')\n",
    "plt.ylabel(\"time(m)\")\n",
    "plt.xlabel(\"e\")\n",
    "plt.title('Time for different e') \n",
    "plt.legend();\n",
    "\n",
    "plt.subplot(122)\n",
    "plt.plot(minibaches,[x / 60 for x in bal_b_time],label=\"balanced\",marker='D')\n",
    "plt.plot(minibaches,[x / 60 for x in bal_b_time],label=\"unbalanced\",marker='o')\n",
    "plt.ylabel(\"time(m)\")\n",
    "plt.xlabel(\"Num of minibaches\")\n",
    "plt.title('Time for different minibaches')\n",
    "plt.legend();\n",
    "name=\"Plots/Exper_NoNoise_w_\"+str(len(w))+\"_samples_\"+str(dataset_params[\"n_samples\"])+\"_features_\"+str(dataset_params[\"n_features\"])+\"_minibaches_\"+str(minibaches)+\"_e_\"+str(e_array)+\"_c.png\"\n",
    "plt.savefig(name)\n",
    "plt.show();\n"
   ]
  },
  {
   "cell_type": "markdown",
   "metadata": {},
   "source": [
    "### Save results"
   ]
  },
  {
   "cell_type": "code",
   "execution_count": null,
   "metadata": {},
   "outputs": [],
   "source": [
    "f = open(\"result.txt\", \"a\")\n",
    "f.writelines([\"\\n\\n\\nNEW EXPERIMENT:\\nparams:\",str(dataset_params),\"\\nminibaches_size:\"\n",
    "              ,str(minibaches),\"\\ndifferent e's:\",str(e_array),\"\\nn_workers: \",str(len(w))])\n",
    "f.writelines([\"\\n\\nRESULTS:\\nBal_rounds_e\",str(Bal_rounds_e),\"\\nBal_acc_e\",str(Bal_acc_e),\n",
    "            \"\\nBal_rounds_b\",str(Bal_rounds_b),\"\\nBal_acc_b\",str(Bal_acc_b),\"\\nUnBal_rounds_e\", \n",
    "              str(UnBal_rounds_e),\"\\nUnBal_acc_e\",str(UnBal_acc_e),\"\\nUnBal_rounds_b\",\n",
    "              str(UnBal_rounds_b),\"\\nBal_acc_b\",str(UnBal_acc_b),\"\\nbal_e_time\",str(bal_e_time),\n",
    "              \"\\nbal_b_time\",str(bal_b_time),\"\\nunbal_e_time\",str(unbal_e_time),\n",
    "              \"\\nunbal_b_time\",str(unbal_b_time),\"\\nlen_real1\",str(len_real1),\n",
    "              \"\\nAcc_real1\",str(Acc_real1),\"\\nlen_real2\",str(len_real2),\n",
    "              \"\\nAcc_real2\",str(Acc_real2)])\n",
    "f.close()"
   ]
  },
  {
   "cell_type": "markdown",
   "metadata": {},
   "source": [
    "### Shutdown client"
   ]
  },
  {
   "cell_type": "code",
   "execution_count": null,
   "metadata": {},
   "outputs": [],
   "source": [
    "client.close()\n",
    "client.shutdown()"
   ]
  }
 ],
 "metadata": {
  "kernelspec": {
   "display_name": "Python 3",
   "language": "python",
   "name": "python3"
  },
  "language_info": {
   "codemirror_mode": {
    "name": "ipython",
    "version": 3
   },
   "file_extension": ".py",
   "mimetype": "text/x-python",
   "name": "python",
   "nbconvert_exporter": "python",
   "pygments_lexer": "ipython3",
   "version": "3.7.6"
  }
 },
 "nbformat": 4,
 "nbformat_minor": 4
}
