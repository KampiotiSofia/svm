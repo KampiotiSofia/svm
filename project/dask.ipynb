{
 "cells": [
  {
   "cell_type": "code",
   "execution_count": 1,
   "metadata": {
    "scrolled": false
   },
   "outputs": [
    {
     "name": "stdout",
     "output_type": "stream",
     "text": [
      "<Client: 'tcp://127.0.0.1:32876' processes=5 threads=5, memory=33.69 GB>\n"
     ]
    }
   ],
   "source": [
    "from client import start_client\n",
    "import numpy as np\n",
    "\n",
    "client,w=start_client(5)\n",
    "client"
   ]
  },
  {
   "cell_type": "code",
   "execution_count": 2,
   "metadata": {},
   "outputs": [
    {
     "name": "stdout",
     "output_type": "stream",
     "text": [
      "workers: [<Future: pending, key: worker_f-d7ba01ccda04b8400d768882682ef2ae>, <Future: pending, key: worker_f-fda3a95e721632d38d3d56ac8fab65d8>, <Future: pending, key: worker_f-569fa2ada1222c2b51fbde28d56a2451>, <Future: pending, key: worker_f-430ad87c505492c967d22645a945cff0>]\n",
      "['pending', 'pending', 'pending', 'pending', 'pending']\n",
      "coo (array([   7.84936873,   24.73831384,  189.25725391, -112.09214551]), 1, 1)\n",
      "coo (array([   7.84936873,   24.73831384,  189.25725391, -112.09214551]), 1, 1)\n",
      "coo (array([ 101.38708505,   -6.23088026,  368.61450018, -147.29639718]), 1, 15)\n",
      "coo (array([ 168.23812122,  -14.87346606,  582.77177643, -226.31667877]), 1, 1)\n",
      "coo (array([ 210.44142599,   -8.44926101,  793.67738053, -323.6321318 ]), 1, 1)\n",
      "coo (array([ 252.48827737,   -2.04887137, 1003.80112883, -420.58682319]), 1, 1)\n",
      "coo (array([ 294.37983104,    4.32787879, 1213.14879681, -517.18341785]), 1, 1)\n",
      "coo (array([ 376.42213403,  -12.98016612, 1433.26583843, -587.40589983]), 1, 1)\n",
      "coo (array([ 446.21764012,  -21.71894812, 1658.66850175, -671.04233088]), 1, 1)\n",
      "coo (array([ 515.75818545,  -30.42580762, 1883.24777635, -754.37324071]), 1, 1)\n",
      "coo (array([ 585.04562597,  -39.10097701, 2107.00965596, -837.40085333]), 1, 1)\n",
      "coo (array([ 692.4770173 ,  -74.28199822, 2315.48162776, -879.38399134]), 1, 1)\n",
      "coo (array([ 754.38337239,  -79.80369994, 2529.61282632, -962.4668809 ]), 1, 1)\n",
      "coo (array([  808.08815897,   -79.47220663,  2748.01301225, -1054.98983869]), 1, 1)\n",
      "coo (array([  861.60028263,   -79.14190254,  2965.62969975, -1147.18087556]), 1, 1)\n",
      "coo (array([  951.57686416,  -100.60899434,  3191.1972594 , -1214.27292502]), 1, 2)\n",
      "coo (array([ 1027.78290499,  -112.83767221,  3420.1779688 , -1294.86280441]), 1, 2)\n",
      "coo (array([ 1039.30317197,   -85.13704314,  3643.09658003, -1425.01517165]), 1, 2)\n",
      "coo (array([ 1110.03714634,   -92.88904958,  3878.56701592, -1514.18477427]), 1, 2)\n",
      "coo (array([ 1180.28118843,  -100.58736247,  4112.40648775, -1602.73675194]), 1, 2)\n",
      "coo (array([ 1250.04203847,  -108.23272049,  4344.63743355, -1690.67960165]), 1, 2)\n",
      "coo (array([ 1334.49257093,  -125.22744794,  4576.44986615, -1766.24250789]), 1, 2)\n",
      "coo (array([ 1398.87482048,  -129.47821879,  4808.6513663 , -1858.60380254]), 1, 2)\n",
      "coo (array([ 1431.11043213,  -113.08399965,  5042.94763075, -1978.79570777]), 1, 3)\n",
      "coo (array([ 1436.35315715,   -84.88775158,  5243.742747  , -2100.26643576]), 1, 2)\n",
      "coo (array([ 1498.06417561,   -88.80360023,  5467.32057087, -2189.42864974]), 1, 3)\n",
      "coo (array([ 1498.06417561,   -88.80360023,  5467.32057087, -2189.42864974]), 580, 1)\n",
      "End of chunks.For now on E will stay the same!\n",
      "['finished', 'finished', 'finished', 'finished', 'finished']\n",
      "['finished', 'finished', 'finished', 'finished', 'finished']\n",
      "coo (array([ 1498.06417561,   -88.80360023,  5467.32057087, -2189.42864974]), 580, 1)\n"
     ]
    }
   ],
   "source": [
    "from main_func import main\n",
    "main(client,w)"
   ]
  }
 ],
 "metadata": {
  "kernelspec": {
   "display_name": "Python 3",
   "language": "python",
   "name": "python3"
  },
  "language_info": {
   "codemirror_mode": {
    "name": "ipython",
    "version": 3
   },
   "file_extension": ".py",
   "mimetype": "text/x-python",
   "name": "python",
   "nbconvert_exporter": "python",
   "pygments_lexer": "ipython3",
   "version": "3.7.6"
  }
 },
 "nbformat": 4,
 "nbformat_minor": 4
}
