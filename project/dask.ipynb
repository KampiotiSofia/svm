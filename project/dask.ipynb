{
 "cells": [
  {
   "cell_type": "code",
   "execution_count": 1,
   "metadata": {
    "scrolled": true
   },
   "outputs": [
    {
     "name": "stdout",
     "output_type": "stream",
     "text": [
      "<Client: 'tcp://127.0.0.1:41348' processes=5 threads=5, memory=33.69 GB>\n"
     ]
    },
    {
     "data": {
      "text/html": [
       "<table style=\"border: 2px solid white;\">\n",
       "<tr>\n",
       "<td style=\"vertical-align: top; border: 0px solid white\">\n",
       "<h3 style=\"text-align: left;\">Client</h3>\n",
       "<ul style=\"text-align: left; list-style: none; margin: 0; padding: 0;\">\n",
       "  <li><b>Scheduler: </b>tcp://127.0.0.1:41348</li>\n",
       "  <li><b>Dashboard: </b><a href='http://127.0.0.1:8787/status' target='_blank'>http://127.0.0.1:8787/status</a>\n",
       "</ul>\n",
       "</td>\n",
       "<td style=\"vertical-align: top; border: 0px solid white\">\n",
       "<h3 style=\"text-align: left;\">Cluster</h3>\n",
       "<ul style=\"text-align: left; list-style:none; margin: 0; padding: 0;\">\n",
       "  <li><b>Workers: </b>5</li>\n",
       "  <li><b>Cores: </b>5</li>\n",
       "  <li><b>Memory: </b>33.69 GB</li>\n",
       "</ul>\n",
       "</td>\n",
       "</tr>\n",
       "</table>"
      ],
      "text/plain": [
       "<Client: 'tcp://127.0.0.1:41348' processes=5 threads=5, memory=33.69 GB>"
      ]
     },
     "execution_count": 1,
     "metadata": {},
     "output_type": "execute_result"
    }
   ],
   "source": [
    "from client import start_client\n",
    "import matplotlib.pyplot as plt\n",
    "import numpy as np\n",
    "import time\n",
    "from matplotlib.pyplot import figure\n",
    "from main_func import main,real_partial\n",
    "from plotting import plot\n",
    "from jupyterthemes import jtplot\n",
    "\n",
    "client,w=start_client(5)\n",
    "client"
   ]
  },
  {
   "cell_type": "markdown",
   "metadata": {},
   "source": [
    "### Main function\n",
    "- make_classification parameters: https://scikit-learn.org/stable/modules/generated/sklearn.datasets.make_classification.html?highlight=make_classification#sklearn.datasets.make_classification\n",
    "- choose e, and chunk size\n",
    "- run multiple times to produce plots\n"
   ]
  },
  {
   "cell_type": "markdown",
   "metadata": {},
   "source": [
    "### Initialize\n",
    "***"
   ]
  },
  {
   "cell_type": "code",
   "execution_count": 2,
   "metadata": {},
   "outputs": [],
   "source": [
    "jtplot.style(theme='grade3') #light plot theme\n",
    "\n",
    "batches=1000 #number of minibatches\n",
    "batch_size=1 #size of each minibatch\n",
    "e=0.01 #tolerance for φ(χ)\n",
    "\n",
    "#compute samples size\n",
    "training_s=batches*batch_size\n",
    "n_samples=int(3*training_s/2) # 1/3 of the samples will be used for testing\n",
    "\n",
    "#parameters for make classification\n",
    "dataset_params={\n",
    "    \"n_samples\":n_samples,\n",
    "    \"n_features\":10,\n",
    "    \"n_informative\":10,\n",
    "    \"n_redundant\":0,\n",
    "    \"n_repeated\":0,\n",
    "    \"n_classes\":2,\n",
    "    \"n_clusters_per_class\":1,\n",
    "    \"flip_y\":0,\n",
    "    \"weights\":[0.5,0.5],\n",
    "    \"random_state\":17\n",
    "}\n",
    "threshold=0.03\n",
    "\n",
    "chunks=100\n",
    "e_array=[0.01,0.1,1]\n",
    "minibaches=[5,10,50]\n",
    "new=\"yes\" #choose if you want to recreate the dataset"
   ]
  },
  {
   "cell_type": "code",
   "execution_count": null,
   "metadata": {},
   "outputs": [],
   "source": [
    "Acc,n_rounds,time_stamps=main(client,w,new,dataset_params,threshold,chunks,minibaches[0])\n"
   ]
  },
  {
   "cell_type": "code",
   "execution_count": null,
   "metadata": {},
   "outputs": [],
   "source": [
    "E_real1,Acc_real1=real_partial(100)\n",
    "len_real1=np.array([i for i in range(len(Acc_real1))])"
   ]
  },
  {
   "cell_type": "code",
   "execution_count": null,
   "metadata": {},
   "outputs": [],
   "source": [
    "from plotting import plot\n",
    "plot()"
   ]
  },
  {
   "cell_type": "markdown",
   "metadata": {},
   "source": [
    "### Dataset with no noise flip_y=0\n",
    "***\n",
    "#### Balanced\n",
    "- weights=[0.5,0,5]"
   ]
  },
  {
   "cell_type": "code",
   "execution_count": null,
   "metadata": {},
   "outputs": [
    {
     "name": "stdout",
     "output_type": "stream",
     "text": [
      "Start with num of chunks: 100 and e: 0.01\n",
      "A new dataset has been created...\n",
      "Size of chunk:  10\n",
      "Number of chunks for each worker:  25\n",
      "In progress...\n",
      "coo ([array([-11.11036533,   0.52981115,  15.19742297,  -2.65192924,\n",
      "         9.70030056,  -8.08359072, -16.46385083, -20.11943749,\n",
      "        -8.25888106, -39.03715197]), 4.992517447666968], 1, 1, 4)\n",
      "Accuracy: 87.000000\n",
      "coo ([array([-16.39700812,  -6.33144996,  14.20742982,  11.85960995,\n",
      "         3.60449123,   4.43258744, -20.11051345, -16.30767979,\n",
      "       -15.93722942, -39.7346263 ]), 2.5024776070295176], 2, 1, 4)\n",
      "Accuracy: 89.600000\n",
      "coo ([array([ -9.1572173 ,  -3.94762364,   8.80901702,  -1.55263822,\n",
      "         8.34240938,  15.63311247, -33.04586298, -14.7653116 ,\n",
      "       -25.3107491 , -25.75979625]), 2.500009792269616], 3, 1, 4)\n",
      "Accuracy: 95.200000\n",
      "coo ([array([-11.20950131, -13.24780977,  16.07954023,  -3.00651808,\n",
      "        12.60127984,   5.43675624, -30.36793893, -18.5804144 ,\n",
      "       -14.71124728, -31.32548604]), 4.958220215081809], 4, 1, 4)\n",
      "Accuracy: 93.600000\n",
      "coo ([array([-18.74497462, -10.70298468,  12.37588094,   5.55426352,\n",
      "        17.8730037 ,  18.5785949 , -29.14467282, -16.2592647 ,\n",
      "       -19.84674082, -24.1351318 ]), 4.958220215081809], 5, 1, 4)\n",
      "Accuracy: 95.000000\n",
      "coo ([array([-11.81140426, -11.07892925,  15.53206802,   4.08238928,\n",
      "        23.97861123,  12.00900166, -30.85003343, -10.99749213,\n",
      "       -19.80166921, -27.5445116 ]), 7.404404168115077], 6, 1, 4)\n",
      "Accuracy: 98.600000\n",
      "coo ([array([ -5.02980325,  -3.98024036,   6.93256703,  -4.98952054,\n",
      "        35.53090297,   7.94874595, -26.57528839,  -9.07643106,\n",
      "       -24.92849905, -27.2616266 ]), 7.406669584272025], 7, 1, 4)\n",
      "Accuracy: 98.000000\n",
      "coo ([array([-15.564402  ,  -9.68001217,   4.61874578,  -2.6982475 ,\n",
      "        31.25667544,  12.12388799, -23.27786721,  -5.13387889,\n",
      "       -22.61836302, -35.79309765]), 5.04817901823429], 8, 1, 4)\n",
      "Accuracy: 99.400000\n",
      "coo ([array([-10.47888922, -18.60237689,  -2.07767052,   6.6322981 ,\n",
      "        21.76757995,  18.26613534, -36.14579388,   7.43934607,\n",
      "       -23.66768456, -30.61180067]), 2.777515984628477], 9, 1, 4)\n",
      "Accuracy: 95.200000\n",
      "coo ([array([ -6.43687022, -16.08492238,  -0.53534813,   4.35320016,\n",
      "        24.83931817,  16.60553981, -31.93629838,   6.84054771,\n",
      "       -22.52168138, -36.36171911]), 5.027741007130727], 10, 1, 4)\n",
      "Accuracy: 97.000000\n",
      "coo ([array([-13.12518911, -15.02666032,   4.893242  ,   5.13999678,\n",
      "        19.62618115,  15.22204842, -38.25052915,  -2.7560675 ,\n",
      "       -26.00820732, -31.95170269]), 7.267884376306354], 11, 1, 4)\n",
      "Accuracy: 99.000000\n",
      "coo ([array([-11.11459379, -16.39807356,   2.57474275,  -2.79400766,\n",
      "        27.37583913,  17.78290007, -41.54161356,  -6.63707778,\n",
      "       -25.28078202, -28.17840075]), 7.265900258770405], 12, 1, 4)\n",
      "Accuracy: 99.600000\n",
      "coo ([array([ -7.57876331, -17.95740872,   3.06113326,  -2.48493496,\n",
      "        30.56278482,   9.05861189, -42.93842205,  -3.98626868,\n",
      "       -21.57441811, -28.72288126]), 9.4550421151627], 13, 1, 4)\n",
      "Accuracy: 99.800000\n",
      "coo ([array([-2.04078903e+00, -8.32317375e+00, -4.77667368e+00,  3.21375504e-02,\n",
      "        3.66805280e+01,  1.14859126e+01, -3.60839778e+01, -2.60108671e+00,\n",
      "       -2.21524780e+01, -3.32778949e+01]), 11.568313459203274], 14, 1, 4)\n",
      "Accuracy: 98.800000\n",
      "coo ([array([-11.18282832, -14.00240823,  -6.89726373,  -1.41956785,\n",
      "        33.46924362,  13.30390488, -37.5465229 ,  -4.18505496,\n",
      "       -22.57077114, -30.70964962]), 9.46393635482617], 15, 1, 4)\n",
      "Accuracy: 99.400000\n"
     ]
    }
   ],
   "source": [
    "# 3 different e\n",
    "new=\"yes\"\n",
    "dataset_params[\"weights\"]=[0.5,0.5]\n",
    "Acc_threshold=[]\n",
    "Rounds_threshold=[]\n",
    "Time_threshold=[]\n",
    "\n",
    "for i in e_array :\n",
    "    e=i\n",
    "    Acc,n_rounds,time_stamps=main(client,w,new,dataset_params,e,chunks,minibaches[0])\n",
    "    new=\"no\"\n",
    "    Acc_threshold.append(Acc)\n",
    "    Rounds_threshold.append(n_rounds)\n",
    "    Time_threshold.append(time_stamps)\n",
    "E_real1,Acc_real1=real_partial(100)\n",
    "len_real1=np.array([i for i in range(len(Acc_real1))])\n",
    "\n",
    "labels=[[]]\n",
    "l1=[[]]\n",
    "l2=[[]]\n",
    "labels[0]=\"Real\"\n",
    "print(len(Acc_threshold[0]),Rounds_threshold,len(Time_threshold[0]))\n",
    "l1[0]=len_real1\n",
    "l2[0]=Acc_real1\n",
    "plot(l1,l2,Acc_threshold,Rounds_threshold,Time_threshold,e_array,labels)\n"
   ]
  },
  {
   "cell_type": "code",
   "execution_count": null,
   "metadata": {},
   "outputs": [],
   "source": [
    "E_real1,Acc_real1=real_partial(100)\n",
    "len_real1=np.array([i for i in range(len(Acc_real1))])\n"
   ]
  },
  {
   "cell_type": "markdown",
   "metadata": {},
   "source": [
    "#### Unbalanced\n",
    "***\n",
    "- weights=[0.9,0.1]"
   ]
  },
  {
   "cell_type": "code",
   "execution_count": null,
   "metadata": {},
   "outputs": [],
   "source": [
    "# 3 different e\n",
    "new=\"yes\"\n",
    "dataset_params[\"weights\"]=[0.9,0.1]\n",
    "UnBal_acc_e=[]\n",
    "UnBal_rounds_e=[]\n",
    "unbal_e_time=[]\n",
    "for i in e_array:\n",
    "    e=i\n",
    "    start_time = time.time()\n",
    "    E_array,feature_array,Acc,Rounds,Subs=main(client,w,new,dataset_params,100,e,\"Unbalanced\")\n",
    "    end_time = time.time()\n",
    "    unbal_e_time.append(end_time-start_time)\n",
    "    new=\"no\"\n",
    "    UnBal_acc_e.append(Acc)\n",
    "    UnBal_rounds_e.append(Rounds)\n",
    "# 3 different bach_sizes\n",
    "UnBal_acc_b=[]\n",
    "UnBal_rounds_b=[]\n",
    "unbal_b_time=[]\n",
    "for i in minibaches:\n",
    "    e=0.01\n",
    "    batches=i\n",
    "    start_time = time.time()\n",
    "    E_array,feature_array,Acc,Rounds,Subs=main(client,w,new,dataset_params,batches,e,\"Unbalanced\")\n",
    "    end_time = time.time()\n",
    "    unbal_b_time.append(end_time-start_time)\n",
    "    UnBal_acc_b.append(Acc)\n",
    "    UnBal_rounds_b.append(Rounds)"
   ]
  },
  {
   "cell_type": "markdown",
   "metadata": {},
   "source": [
    "#### Real"
   ]
  },
  {
   "cell_type": "code",
   "execution_count": null,
   "metadata": {},
   "outputs": [],
   "source": [
    "E_real2,Acc_real2=real_partial(100)\n",
    "len_real2=np.array([i for i in range(len(Acc_real2))])"
   ]
  },
  {
   "cell_type": "markdown",
   "metadata": {},
   "source": [
    "### Plots\n",
    "***\n",
    "- No noise"
   ]
  },
  {
   "cell_type": "code",
   "execution_count": null,
   "metadata": {},
   "outputs": [],
   "source": [
    "#1.1.a balanced acc-rounds /e (multiple lines one for each e)\n",
    "figure(figsize=(15,15)) \n",
    "plt.subplot(221)\n",
    "plt.plot(Bal_rounds_e[0], Bal_acc_e[0],label=e_array[0],marker='o')\n",
    "plt.plot(Bal_rounds_e[1], Bal_acc_e[1],label=e_array[1],marker='o')\n",
    "plt.plot(Bal_rounds_e[2], Bal_acc_e[2],label=e_array[2],marker='o')\n",
    "plt.xlabel(\"Rounds\")\n",
    "plt.ylabel(\"Accuracy\")\n",
    "plt.title('1.1.a Accuracy/Rounds for different e \\n in a no noise balanced dataset')\n",
    "plt.legend();\n",
    "\n",
    "plt.subplot(222)\n",
    "plt.plot(Bal_rounds_b[0], Bal_acc_b[0],label=minibaches[0],marker='o')\n",
    "plt.plot(Bal_rounds_b[1], Bal_acc_b[1],label=minibaches[1],marker='o')\n",
    "plt.plot(Bal_rounds_b[2], Bal_acc_b[2],label=minibaches[2],marker='o')\n",
    "plt.xlabel(\"Rounds\")\n",
    "plt.ylabel(\"Accuracy\")\n",
    "plt.title('1.1.b Accuracy/Rounds for different number of minibatches \\n in a no noise balanced dataset')\n",
    "plt.legend();\n",
    "\n",
    "#1.2.a unbalanced acc-rounds (multiple lines one for each e)\n",
    "plt.subplot(223)\n",
    "plt.plot(UnBal_rounds_e[0], UnBal_acc_e[0],label=e_array[0],marker='o')\n",
    "plt.plot(UnBal_rounds_e[1], UnBal_acc_e[1],label=e_array[1],marker='o')\n",
    "plt.plot(UnBal_rounds_e[2], UnBal_acc_e[2],label=e_array[2],marker='o')\n",
    "plt.xlabel(\"Rounds\")\n",
    "plt.ylabel(\"Accuracy\")\n",
    "plt.title('1.2.a Accuracy/Rounds for different e \\n in a no noise Unbalanced dataset')\n",
    "plt.legend();\n",
    "\n",
    "#1.2.b unbalanced acc-rounds /baches (multiple lines)\n",
    "plt.subplot(224)\n",
    "plt.plot(UnBal_rounds_b[0], UnBal_acc_b[0],label=minibaches[0],marker='o')\n",
    "plt.plot(UnBal_rounds_b[1], UnBal_acc_b[1],label=minibaches[1],marker='o')\n",
    "plt.plot(UnBal_rounds_b[2], UnBal_acc_b[2],label=minibaches[2],marker='o')\n",
    "plt.xlabel(\"Rounds\")\n",
    "plt.ylabel(\"Accuracy\")\n",
    "plt.title('1.2.b Accuracy/Rounds for different number of minibatches \\n in a no noise Unbalanced dataset')\n",
    "plt.legend();\n",
    "name=\"Plots/Exper_NoNoise_w_\"+str(len(w))+\"_samples_\"+str(dataset_params[\"n_samples\"])+\"_features_\"+str(dataset_params[\"n_features\"])+\"_minibaches_\"+str(minibaches)+\"_e_\"+str(e_array)+\"_a.png\"\n",
    "plt.savefig(name)\n",
    "plt.show();\n"
   ]
  },
  {
   "cell_type": "markdown",
   "metadata": {},
   "source": [
    "### Plot centralized "
   ]
  },
  {
   "cell_type": "code",
   "execution_count": null,
   "metadata": {
    "scrolled": false
   },
   "outputs": [],
   "source": [
    "\n",
    "plt.plot(len_real1,Acc_real1,label=\"balanced\")\n",
    "plt.plot(len_real2,Acc_real2,label=\"unbalanced\")\n",
    "plt.xlabel(\"Rounds\")\n",
    "plt.ylabel(\"Accuracy\")\n",
    "plt.title('Centralized behaviour')\n",
    "plt.legend();\n",
    "name=\"Plots/Exper_NoNoise_w_\"+str(len(w))+\"_samples_\"+str(dataset_params[\"n_samples\"])+\"_features_\"+str(dataset_params[\"n_features\"])+\"_minibaches_\"+str(minibaches)+\"_e_\"+str(e_array)+\"_b.png\"\n",
    "plt.savefig(name)\n",
    "plt.show();\n"
   ]
  },
  {
   "cell_type": "markdown",
   "metadata": {},
   "source": [
    "### Plot time "
   ]
  },
  {
   "cell_type": "code",
   "execution_count": null,
   "metadata": {
    "scrolled": false
   },
   "outputs": [],
   "source": [
    "\n",
    "figure(figsize=(12,5))\n",
    "\n",
    "plt.subplot(121)\n",
    "plt.plot(e_array,[x / 60 for x in bal_e_time],label=\"balanced\",marker='D')\n",
    "plt.plot(e_array,[x / 60 for x in unbal_e_time],label=\"unbalanced\",marker='o')\n",
    "plt.ylabel(\"time(m)\")\n",
    "plt.xlabel(\"e\")\n",
    "plt.title('Time for different e') \n",
    "plt.legend();\n",
    "\n",
    "plt.subplot(122)\n",
    "plt.plot(minibaches,[x / 60 for x in bal_b_time],label=\"balanced\",marker='D')\n",
    "plt.plot(minibaches,[x / 60 for x in bal_b_time],label=\"unbalanced\",marker='o')\n",
    "plt.ylabel(\"time(m)\")\n",
    "plt.xlabel(\"Num of minibaches\")\n",
    "plt.title('Time for different minibaches')\n",
    "plt.legend();\n",
    "name=\"Plots/Exper_NoNoise_w_\"+str(len(w))+\"_samples_\"+str(dataset_params[\"n_samples\"])+\"_features_\"+str(dataset_params[\"n_features\"])+\"_minibaches_\"+str(minibaches)+\"_e_\"+str(e_array)+\"_c.png\"\n",
    "plt.savefig(name)\n",
    "plt.show();\n"
   ]
  },
  {
   "cell_type": "markdown",
   "metadata": {},
   "source": [
    "### Save results"
   ]
  },
  {
   "cell_type": "code",
   "execution_count": null,
   "metadata": {},
   "outputs": [],
   "source": [
    "f = open(\"result.txt\", \"a\")\n",
    "f.writelines([\"\\n\\n\\nNEW EXPERIMENT:\\nparams:\",str(dataset_params),\"\\nminibaches_size:\"\n",
    "              ,str(minibaches),\"\\ndifferent e's:\",str(e_array),\"\\nn_workers: \",str(len(w))])\n",
    "f.writelines([\"\\n\\nRESULTS:\\nBal_rounds_e\",str(Bal_rounds_e),\"\\nBal_acc_e\",str(Bal_acc_e),\n",
    "            \"\\nBal_rounds_b\",str(Bal_rounds_b),\"\\nBal_acc_b\",str(Bal_acc_b),\"\\nUnBal_rounds_e\", \n",
    "              str(UnBal_rounds_e),\"\\nUnBal_acc_e\",str(UnBal_acc_e),\"\\nUnBal_rounds_b\",\n",
    "              str(UnBal_rounds_b),\"\\nBal_acc_b\",str(UnBal_acc_b),\"\\nbal_e_time\",str(bal_e_time),\n",
    "              \"\\nbal_b_time\",str(bal_b_time),\"\\nunbal_e_time\",str(unbal_e_time),\n",
    "              \"\\nunbal_b_time\",str(unbal_b_time),\"\\nlen_real1\",str(len_real1),\n",
    "              \"\\nAcc_real1\",str(Acc_real1),\"\\nlen_real2\",str(len_real2),\n",
    "              \"\\nAcc_real2\",str(Acc_real2)])\n",
    "f.close()"
   ]
  },
  {
   "cell_type": "markdown",
   "metadata": {},
   "source": [
    "### Shutdown client"
   ]
  },
  {
   "cell_type": "code",
   "execution_count": null,
   "metadata": {},
   "outputs": [],
   "source": [
    "client.close()\n",
    "client.shutdown()"
   ]
  },
  {
   "cell_type": "code",
   "execution_count": null,
   "metadata": {},
   "outputs": [],
   "source": []
  }
 ],
 "metadata": {
  "kernelspec": {
   "display_name": "Python 3",
   "language": "python",
   "name": "python3"
  },
  "language_info": {
   "codemirror_mode": {
    "name": "ipython",
    "version": 3
   },
   "file_extension": ".py",
   "mimetype": "text/x-python",
   "name": "python",
   "nbconvert_exporter": "python",
   "pygments_lexer": "ipython3",
   "version": "3.7.6"
  }
 },
 "nbformat": 4,
 "nbformat_minor": 4
}
