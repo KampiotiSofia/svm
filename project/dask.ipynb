{
 "cells": [
  {
   "cell_type": "code",
   "execution_count": 1,
   "metadata": {
    "scrolled": true
   },
   "outputs": [
    {
     "name": "stdout",
     "output_type": "stream",
     "text": [
      "<Client: 'tcp://127.0.0.1:46791' processes=17 threads=17, memory=33.69 GB>\n"
     ]
    },
    {
     "data": {
      "text/html": [
       "<table style=\"border: 2px solid white;\">\n",
       "<tr>\n",
       "<td style=\"vertical-align: top; border: 0px solid white\">\n",
       "<h3 style=\"text-align: left;\">Client</h3>\n",
       "<ul style=\"text-align: left; list-style: none; margin: 0; padding: 0;\">\n",
       "  <li><b>Scheduler: </b>tcp://127.0.0.1:46791</li>\n",
       "  <li><b>Dashboard: </b><a href='http://127.0.0.1:8787/status' target='_blank'>http://127.0.0.1:8787/status</a>\n",
       "</ul>\n",
       "</td>\n",
       "<td style=\"vertical-align: top; border: 0px solid white\">\n",
       "<h3 style=\"text-align: left;\">Cluster</h3>\n",
       "<ul style=\"text-align: left; list-style:none; margin: 0; padding: 0;\">\n",
       "  <li><b>Workers: </b>17</li>\n",
       "  <li><b>Cores: </b>17</li>\n",
       "  <li><b>Memory: </b>33.69 GB</li>\n",
       "</ul>\n",
       "</td>\n",
       "</tr>\n",
       "</table>"
      ],
      "text/plain": [
       "<Client: 'tcp://127.0.0.1:46791' processes=17 threads=17, memory=33.69 GB>"
      ]
     },
     "execution_count": 1,
     "metadata": {},
     "output_type": "execute_result"
    }
   ],
   "source": [
    "from client import start_client\n",
    "import matplotlib.pyplot as plt\n",
    "import numpy as np\n",
    "import time\n",
    "from matplotlib.pyplot import figure\n",
    "from main_func import main,real_partial\n",
    "from plotting import plot, plot_workers\n",
    "from jupyterthemes import jtplot\n",
    "\n",
    "client,w=start_client(17)\n",
    "client"
   ]
  },
  {
   "cell_type": "markdown",
   "metadata": {},
   "source": [
    "### Main function\n",
    "- make_classification parameters: https://scikit-learn.org/stable/modules/generated/sklearn.datasets.make_classification.html?highlight=make_classification#sklearn.datasets.make_classification\n",
    "- choose e, and chunk size\n",
    "- run multiple times to produce plots\n"
   ]
  },
  {
   "cell_type": "markdown",
   "metadata": {},
   "source": [
    "### Initialize\n",
    "***"
   ]
  },
  {
   "cell_type": "code",
   "execution_count": 2,
   "metadata": {},
   "outputs": [],
   "source": [
    "jtplot.style(theme='grade3') #light plot theme\n",
    "\n",
    "batches=30000 #number of minibatches\n",
    "batch_size=1 #size of each minibatch\n",
    "e=0.8 #tolerance for φ(χ)\n",
    "\n",
    "#compute samples size\n",
    "training_s=batches*batch_size\n",
    "n_samples=int(3*training_s/2) # 1/3 of the samples will be used for testing\n",
    "\n",
    "#parameters for make classification\n",
    "dataset_params={\n",
    "    \"n_samples\":n_samples,\n",
    "    \"n_features\":1000,\n",
    "    \"n_informative\":10,\n",
    "    \"n_redundant\":0,\n",
    "    \"n_repeated\":0,\n",
    "    \"n_classes\":2,\n",
    "    \"n_clusters_per_class\":1,\n",
    "    \"flip_y\":0,\n",
    "    \"weights\":[0.7,0.3],\n",
    "    \"random_state\":17\n",
    "}\n",
    "threshold=0.03\n",
    "\n",
    "chunks=100\n",
    "e_array=[0.3]\n",
    "sizes=[30000,50000,100000,150000,200000,300000]\n",
    "minibatches=[10,50,100]\n",
    "new=\"no\" #choose if you want to recreate the dataset"
   ]
  },
  {
   "cell_type": "markdown",
   "metadata": {},
   "source": [
    "### Dataset with no noise flip_y=0\n",
    "***\n",
    "#### Balanced\n",
    "- weights=[0.5,0,5]"
   ]
  },
  {
   "cell_type": "code",
   "execution_count": 3,
   "metadata": {},
   "outputs": [
    {
     "name": "stdout",
     "output_type": "stream",
     "text": [
      "-------------------------------------------------------------\n",
      "\n",
      "Start with num of chunks: 100 ,e: 0.3\n",
      "Minibatch size: 30.0\n",
      "Number of chunks for each worker:  6\n",
      "In progress...\n",
      "[1, 16, 2.1177995204925537]\n",
      "Accuracy: 90.006667\n",
      "[6, 16, 9.217320680618286]\n",
      "Accuracy: 90.886667\n",
      "[3, 16, 19.296372652053833]\n",
      "Accuracy: 90.480000\n",
      "[2, 16, 22.397164583206177]\n",
      "Accuracy: 90.960000\n",
      "[3, 16, 27.499389171600342]\n",
      "Accuracy: 91.286667\n",
      "[6, 16, 35.60579323768616]\n",
      "Accuracy: 91.480000\n",
      "[3, 16, 39.70938444137573]\n",
      "Accuracy: 91.793333\n",
      "[2, 16, 43.81996536254883]\n",
      "Accuracy: 92.153333\n",
      "[8, 16, 53.92369341850281]\n",
      "Accuracy: 92.140000\n",
      "[9, 16, 65.03322458267212]\n",
      "Accuracy: 92.460000\n",
      "[3, 16, 71.14158892631531]\n",
      "Accuracy: 92.620000\n",
      "[7, 16, 80.26920056343079]\n",
      "Accuracy: 92.606667\n",
      "[1, 16, 83.34944558143616]\n",
      "Accuracy: 92.840000\n",
      "[1, 16, 87.43587112426758]\n",
      "Accuracy: 92.626667\n",
      "[1, 16, 90.55378413200378]\n",
      "Accuracy: 92.660000\n",
      "[1, 16, 93.6545398235321]\n",
      "Accuracy: 92.753333\n",
      "[1, 16, 96.77760934829712]\n",
      "Accuracy: 92.833333\n",
      "[1, 16, 99.86695671081543]\n",
      "Accuracy: 92.820000\n",
      "[1, 16, 103.98423981666565]\n",
      "Accuracy: 92.960000\n",
      "[1, 16, 108.06387853622437]\n",
      "Accuracy: 92.960000\n",
      "[1, 9, 134.21686840057373]\n",
      "Accuracy: 93.360000\n"
     ]
    }
   ],
   "source": [
    "# 3 different e\n",
    "new=\"no\"\n",
    "dataset_params[\"weights\"]=[0.5,0.5]\n",
    "Acc_threshold=[]\n",
    "Rounds_threshold=[]\n",
    "Time_threshold=[]\n",
    "labels=[[]]\n",
    "l1=[[]]\n",
    "l2=[[]]\n",
    "\n",
    "for i in e_array :\n",
    "    e=i\n",
    "    Acc,n_rounds,time_stamps=main(client,w,new,dataset_params,e,chunks,minibatches[0])\n",
    "    new=\"no\"\n",
    "    Acc_threshold.append(Acc)\n",
    "    Rounds_threshold.append(n_rounds)\n",
    "    Time_threshold.append(time_stamps)\n",
    "    time.sleep(5)"
   ]
  },
  {
   "cell_type": "code",
   "execution_count": 4,
   "metadata": {},
   "outputs": [
    {
     "name": "stdout",
     "output_type": "stream",
     "text": [
      "Start...\n",
      "----------------------------------------------\n",
      "\n",
      "Accuracy: 83.560000\n",
      "Accuracy: 85.333333\n",
      "Accuracy: 86.793333\n",
      "Accuracy: 87.693333\n",
      "Accuracy: 87.526667\n",
      "Accuracy: 87.420000\n",
      "Accuracy: 88.080000\n",
      "Accuracy: 88.480000\n",
      "Accuracy: 88.506667\n",
      "Accuracy: 89.313333\n",
      "Accuracy: 89.413333\n",
      "Accuracy: 89.626667\n",
      "Accuracy: 89.806667\n",
      "Accuracy: 89.706667\n",
      "Accuracy: 89.873333\n",
      "Accuracy: 90.200000\n",
      "Accuracy: 90.173333\n",
      "Accuracy: 90.373333\n",
      "Accuracy: 90.333333\n",
      "Accuracy: 90.393333\n",
      "Accuracy: 90.140000\n",
      "Accuracy: 90.640000\n",
      "Accuracy: 90.606667\n",
      "Accuracy: 90.580000\n",
      "Accuracy: 91.073333\n",
      "Accuracy: 90.833333\n",
      "Accuracy: 90.973333\n",
      "Accuracy: 91.060000\n",
      "Accuracy: 91.313333\n",
      "Accuracy: 90.940000\n",
      "Accuracy: 91.293333\n",
      "Accuracy: 91.166667\n",
      "Accuracy: 91.580000\n",
      "Accuracy: 91.600000\n",
      "Accuracy: 91.526667\n",
      "Accuracy: 91.666667\n",
      "Accuracy: 91.526667\n",
      "Accuracy: 91.566667\n",
      "Accuracy: 91.760000\n",
      "Accuracy: 91.426667\n",
      "Accuracy: 91.540000\n",
      "Accuracy: 91.446667\n",
      "Accuracy: 91.506667\n",
      "Accuracy: 91.673333\n",
      "Accuracy: 91.653333\n",
      "Accuracy: 91.846667\n",
      "Accuracy: 91.900000\n",
      "Accuracy: 92.033333\n",
      "Accuracy: 92.040000\n",
      "Accuracy: 92.093333\n",
      "Accuracy: 91.886667\n",
      "Accuracy: 91.826667\n",
      "Accuracy: 91.953333\n",
      "Accuracy: 91.993333\n",
      "Accuracy: 91.693333\n",
      "Accuracy: 92.060000\n",
      "Accuracy: 92.133333\n",
      "Accuracy: 92.093333\n",
      "Accuracy: 91.806667\n",
      "Accuracy: 91.733333\n",
      "Accuracy: 91.693333\n",
      "Accuracy: 91.746667\n",
      "Accuracy: 92.100000\n",
      "Accuracy: 92.193333\n",
      "Accuracy: 92.280000\n",
      "Accuracy: 92.100000\n",
      "Accuracy: 92.233333\n",
      "Accuracy: 92.400000\n",
      "Accuracy: 92.700000\n",
      "Accuracy: 92.646667\n",
      "Accuracy: 92.533333\n",
      "Accuracy: 92.326667\n",
      "Accuracy: 92.320000\n",
      "Accuracy: 92.333333\n",
      "Accuracy: 92.313333\n",
      "Accuracy: 92.300000\n",
      "Accuracy: 92.466667\n",
      "Accuracy: 92.246667\n",
      "Accuracy: 92.306667\n",
      "Accuracy: 92.213333\n",
      "Accuracy: 92.273333\n",
      "Accuracy: 92.080000\n",
      "Accuracy: 92.073333\n",
      "Accuracy: 91.993333\n",
      "Accuracy: 92.233333\n",
      "Accuracy: 92.100000\n",
      "Accuracy: 92.113333\n",
      "Accuracy: 92.053333\n",
      "Accuracy: 92.026667\n",
      "Accuracy: 92.146667\n",
      "Accuracy: 92.240000\n",
      "Accuracy: 92.580000\n",
      "Accuracy: 92.306667\n",
      "Accuracy: 92.060000\n",
      "Accuracy: 92.253333\n",
      "Accuracy: 92.466667\n",
      "Accuracy: 92.600000\n",
      "Accuracy: 92.486667\n",
      "Accuracy: 92.640000\n",
      "Accuracy: 92.500000\n",
      "NO Chunks...\n",
      "Ended 0\n",
      "----------------------------------------------\n",
      "\n",
      "Accuracy: 92.513333\n",
      "Accuracy: 92.373333\n",
      "Accuracy: 92.373333\n",
      "Accuracy: 92.313333\n",
      "Accuracy: 92.380000\n",
      "Accuracy: 92.293333\n",
      "Accuracy: 92.093333\n",
      "Accuracy: 91.953333\n",
      "Accuracy: 91.853333\n",
      "Accuracy: 91.813333\n",
      "Accuracy: 91.980000\n",
      "Accuracy: 91.793333\n",
      "Accuracy: 91.853333\n",
      "Accuracy: 91.953333\n",
      "Accuracy: 91.806667\n",
      "Accuracy: 91.940000\n",
      "Accuracy: 92.020000\n",
      "Accuracy: 92.053333\n",
      "Accuracy: 92.326667\n",
      "Accuracy: 92.166667\n",
      "Accuracy: 92.280000\n",
      "Accuracy: 92.253333\n",
      "Accuracy: 92.180000\n",
      "Accuracy: 92.246667\n",
      "Accuracy: 91.993333\n",
      "Accuracy: 92.046667\n",
      "Accuracy: 92.026667\n",
      "Accuracy: 92.006667\n",
      "Accuracy: 92.273333\n",
      "Accuracy: 92.333333\n",
      "Accuracy: 92.353333\n",
      "Accuracy: 92.213333\n",
      "Accuracy: 92.380000\n",
      "Accuracy: 92.380000\n",
      "Accuracy: 92.353333\n",
      "Accuracy: 92.440000\n",
      "Accuracy: 92.500000\n",
      "Accuracy: 92.513333\n",
      "Accuracy: 92.333333\n",
      "Accuracy: 92.286667\n",
      "Accuracy: 92.253333\n",
      "Accuracy: 92.500000\n",
      "Accuracy: 92.200000\n",
      "Accuracy: 92.186667\n",
      "Accuracy: 92.273333\n",
      "Accuracy: 92.146667\n",
      "Accuracy: 92.273333\n",
      "Accuracy: 92.233333\n",
      "Accuracy: 92.353333\n",
      "Accuracy: 92.466667\n",
      "Accuracy: 92.126667\n",
      "Accuracy: 92.300000\n",
      "Accuracy: 92.280000\n",
      "Accuracy: 92.406667\n",
      "Accuracy: 92.233333\n",
      "Accuracy: 92.640000\n",
      "Accuracy: 92.473333\n",
      "Accuracy: 92.386667\n",
      "Accuracy: 92.560000\n",
      "Accuracy: 92.620000\n",
      "Accuracy: 92.533333\n",
      "Accuracy: 92.446667\n",
      "Accuracy: 92.406667\n",
      "Accuracy: 92.266667\n",
      "Accuracy: 92.506667\n",
      "Accuracy: 92.446667\n",
      "Accuracy: 92.546667\n",
      "Accuracy: 92.653333\n",
      "Accuracy: 92.686667\n",
      "Accuracy: 92.626667\n",
      "Accuracy: 92.573333\n",
      "Accuracy: 92.500000\n",
      "Accuracy: 92.426667\n",
      "Accuracy: 92.620000\n",
      "Accuracy: 92.633333\n",
      "Accuracy: 92.566667\n",
      "Accuracy: 92.780000\n",
      "Accuracy: 92.540000\n",
      "Accuracy: 92.600000\n",
      "Accuracy: 92.633333\n",
      "Accuracy: 92.733333\n",
      "Accuracy: 92.433333\n",
      "Accuracy: 92.493333\n",
      "Accuracy: 92.566667\n",
      "Accuracy: 92.673333\n",
      "Accuracy: 92.600000\n",
      "Accuracy: 92.486667\n",
      "Accuracy: 92.240000\n",
      "Accuracy: 92.180000\n",
      "Accuracy: 92.220000\n",
      "Accuracy: 92.346667\n",
      "Accuracy: 92.513333\n",
      "Accuracy: 92.246667\n",
      "Accuracy: 92.180000\n",
      "Accuracy: 92.026667\n",
      "Accuracy: 92.373333\n",
      "Accuracy: 92.220000\n",
      "Accuracy: 92.353333\n",
      "Accuracy: 92.413333\n",
      "Accuracy: 92.426667\n",
      "NO Chunks...\n",
      "Ended 1\n"
     ]
    }
   ],
   "source": [
    "time_centr,Acc_real1,f_acc=real_partial(chunks*minibatches[0])\n",
    "len_real1=np.array([i for i in range(len(Acc_real1))])\n",
    "\n",
    "labels[0]=\"Real\"\n",
    "\n",
    "l1[0]=len_real1\n",
    "l2[0]=Acc_real1"
   ]
  },
  {
   "cell_type": "code",
   "execution_count": 5,
   "metadata": {},
   "outputs": [
    {
     "data": {
      "image/png": "[encoded data removed]",
      "text/plain": [
       "<Figure size 1080x1080 with 2 Axes>"
      ]
     },
     "metadata": {},
     "output_type": "display_data"
    }
   ],
   "source": [
    "time_centr\n",
    "np.load(\"np_arrays/total_time\"+str(32)+\".npy\")\n",
    "plot_workers([4,16,32],time_centr,f_acc)"
   ]
  },
  {
   "cell_type": "code",
   "execution_count": 6,
   "metadata": {},
   "outputs": [],
   "source": [
    "# name=\"Plots/3_Threshold_w_\"+str(len(w))+\"_samples_\"+str(dataset_params[\"n_samples\"])+\"_features_\"+str(dataset_params[\"n_features\"])+\"_e_\"+str(e_array)+\".png\"\n",
    "# plot(l1,l2,Acc_threshold,Rounds_threshold,Time_threshold,e_array,labels,name,'threshold')"
   ]
  },
  {
   "cell_type": "code",
   "execution_count": 16,
   "metadata": {},
   "outputs": [
    {
     "data": {
      "text/html": [
       "\n",
       "                <audio  controls=\"controls\" autoplay=\"autoplay\">\n",
       "                    <source src=\"http://peal.io/download/5e289.wav\" type=\"audio/x-wav\" />\n",
       "                    Your browser does not support the audio element.\n",
       "                </audio>\n",
       "              "
      ],
      "text/plain": [
       "<IPython.lib.display.Audio object>"
      ]
     },
     "metadata": {},
     "output_type": "display_data"
    }
   ],
   "source": [
    "from IPython.display import Audio, display\n",
    "display(Audio(url='http://peal.io/download/5e289.wav', autoplay=True))\n",
    "# http://peal.io/download/mr5xx.wav"
   ]
  },
  {
   "cell_type": "code",
   "execution_count": 8,
   "metadata": {},
   "outputs": [],
   "source": [
    "# Acc_minibatch=[]\n",
    "# Rounds_minibatch=[]\n",
    "# Time_minibatch=[]\n",
    "# e=0.2\n",
    "# for i in minibatches :\n",
    "#     minibatch=i\n",
    "#     Acc,n_rounds,time_stamps=main(client,w,new,dataset_params,e,chunks,minibatch)\n",
    "#     new=\"no\"\n",
    "#     Acc_minibatch.append(Acc)\n",
    "#     Rounds_minibatch.append(n_rounds)\n",
    "#     Time_minibatch.append(time_stamps)\n",
    "#     time.sleep(5)"
   ]
  },
  {
   "cell_type": "code",
   "execution_count": 9,
   "metadata": {},
   "outputs": [],
   "source": [
    "# name=\"Plots/Minibatch_4x_w_\"+str(len(w))+\"_samples_\"+str(dataset_params[\"n_samples\"])+\"_features_\"+str(dataset_params[\"n_features\"])+\"_minib_\"+str(minibatches)+\".png\"\n",
    "# plot(l1,l2,Acc_minibatch,Rounds_minibatch,Time_minibatch,minibatches,labels,name,'minibatches')"
   ]
  },
  {
   "cell_type": "markdown",
   "metadata": {},
   "source": [
    "### Save results"
   ]
  },
  {
   "cell_type": "code",
   "execution_count": 10,
   "metadata": {},
   "outputs": [],
   "source": [
    "f = open(\"result.txt\", \"a\")\n",
    "f.writelines([\"\\n\\n===========================================================================\"])\n",
    "f.writelines([\"\\nNEW EXPERIMENT:\\nparams:\",str(dataset_params),\"\\nminibaches_size:\"\n",
    "              ,str(minibatches),\"\\ndifferent e's:\",str(e_array),\"\\nn_workers: \",str(len(w))])\n",
    "f.writelines([\"\\n___________________________________________________________________________\"])\n",
    "f.writelines([\"\\nRESULTS:\\nAcc_threshold\",str(Acc_threshold),\"\\nRounds_threshold\",str(Rounds_threshold),\n",
    "             \"\\nTime_threshold\",str(Time_threshold),\"\\nlen_real1\",str(len_real1),\"\\nAcc_real1\",str(Acc_real1)])\n",
    "f.close()"
   ]
  },
  {
   "cell_type": "markdown",
   "metadata": {},
   "source": [
    "### Shutdown client"
   ]
  },
  {
   "cell_type": "code",
   "execution_count": 11,
   "metadata": {},
   "outputs": [],
   "source": [
    "client.close()\n",
    "client.shutdown()"
   ]
  }
 ],
 "metadata": {
  "kernelspec": {
   "display_name": "Python 3",
   "language": "python",
   "name": "python3"
  },
  "language_info": {
   "codemirror_mode": {
    "name": "ipython",
    "version": 3
   },
   "file_extension": ".py",
   "mimetype": "text/x-python",
   "name": "python",
   "nbconvert_exporter": "python",
   "pygments_lexer": "ipython3",
   "version": "3.7.6"
  }
 },
 "nbformat": 4,
 "nbformat_minor": 4
}
