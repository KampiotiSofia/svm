{
 "cells": [
  {
   "cell_type": "code",
   "execution_count": 1,
   "metadata": {
    "scrolled": true
   },
   "outputs": [
    {
     "name": "stdout",
     "output_type": "stream",
     "text": [
      "<Client: 'tcp://127.0.0.1:42351' processes=13 threads=13, memory=33.69 GB>\n"
     ]
    },
    {
     "data": {
      "text/html": [
       "<table style=\"border: 2px solid white;\">\n",
       "<tr>\n",
       "<td style=\"vertical-align: top; border: 0px solid white\">\n",
       "<h3 style=\"text-align: left;\">Client</h3>\n",
       "<ul style=\"text-align: left; list-style: none; margin: 0; padding: 0;\">\n",
       "  <li><b>Scheduler: </b>tcp://127.0.0.1:42351</li>\n",
       "  <li><b>Dashboard: </b><a href='http://127.0.0.1:8787/status' target='_blank'>http://127.0.0.1:8787/status</a>\n",
       "</ul>\n",
       "</td>\n",
       "<td style=\"vertical-align: top; border: 0px solid white\">\n",
       "<h3 style=\"text-align: left;\">Cluster</h3>\n",
       "<ul style=\"text-align: left; list-style:none; margin: 0; padding: 0;\">\n",
       "  <li><b>Workers: </b>13</li>\n",
       "  <li><b>Cores: </b>13</li>\n",
       "  <li><b>Memory: </b>33.69 GB</li>\n",
       "</ul>\n",
       "</td>\n",
       "</tr>\n",
       "</table>"
      ],
      "text/plain": [
       "<Client: 'tcp://127.0.0.1:42351' processes=13 threads=13, memory=33.69 GB>"
      ]
     },
     "execution_count": 1,
     "metadata": {},
     "output_type": "execute_result"
    }
   ],
   "source": [
    "from client import start_client\n",
    "import matplotlib.pyplot as plt\n",
    "import numpy as np\n",
    "import time\n",
    "from matplotlib.pyplot import figure\n",
    "from main_func import main,real_partial\n",
    "from plotting import plot\n",
    "from jupyterthemes import jtplot\n",
    "\n",
    "client,w=start_client(13)\n",
    "client"
   ]
  },
  {
   "cell_type": "markdown",
   "metadata": {},
   "source": [
    "### Main function\n",
    "- make_classification parameters: https://scikit-learn.org/stable/modules/generated/sklearn.datasets.make_classification.html?highlight=make_classification#sklearn.datasets.make_classification\n",
    "- choose e, and chunk size\n",
    "- run multiple times to produce plots\n"
   ]
  },
  {
   "cell_type": "markdown",
   "metadata": {},
   "source": [
    "### Initialize\n",
    "***"
   ]
  },
  {
   "cell_type": "code",
   "execution_count": 2,
   "metadata": {},
   "outputs": [],
   "source": [
    "jtplot.style(theme='grade3') #light plot theme\n",
    "\n",
    "batches=30000 #number of minibatches\n",
    "batch_size=1 #size of each minibatch\n",
    "e=0.8 #tolerance for φ(χ)\n",
    "\n",
    "#compute samples size\n",
    "training_s=batches*batch_size\n",
    "n_samples=int(3*training_s/2) # 1/3 of the samples will be used for testing\n",
    "\n",
    "#parameters for make classification\n",
    "dataset_params={\n",
    "    \"n_samples\":n_samples,\n",
    "    \"n_features\":1000,\n",
    "    \"n_informative\":10,\n",
    "    \"n_redundant\":0,\n",
    "    \"n_repeated\":0,\n",
    "    \"n_classes\":2,\n",
    "    \"n_clusters_per_class\":1,\n",
    "    \"flip_y\":0,\n",
    "    \"weights\":[0.7,0.3],\n",
    "    \"random_state\":17\n",
    "}\n",
    "threshold=0.03\n",
    "\n",
    "chunks=100\n",
    "e_array=[0.05,0.1,0.2,0.3,0.4,0.5,0.6,0.7,0.8]\n",
    "sizes=[30000,50000,100000,150000,200000,300000]\n",
    "minibatches=[10,50,100]\n",
    "new=\"no\" #choose if you want to recreate the dataset"
   ]
  },
  {
   "cell_type": "markdown",
   "metadata": {},
   "source": [
    "### Dataset with no noise flip_y=0\n",
    "***\n",
    "#### Balanced\n",
    "- weights=[0.5,0,5]"
   ]
  },
  {
   "cell_type": "code",
   "execution_count": null,
   "metadata": {},
   "outputs": [
    {
     "name": "stdout",
     "output_type": "stream",
     "text": [
      "-------------------------------------------------------------\n",
      "\n",
      "Start with num of chunks: 100 ,e: 0.05\n",
      "Minibatch size: 30.0\n",
      "Number of chunks for each worker:  8\n",
      "In progress...\n",
      "coo (1, 1, 12)\n",
      "Accuracy: 89.333333\n",
      "coo (2, 1, 12)\n",
      "Accuracy: 89.506667\n",
      "coo (3, 1, 12)\n",
      "Accuracy: 89.626667\n",
      "coo (4, 1, 12)\n",
      "Accuracy: 90.220000\n",
      "coo (5, 1, 12)\n",
      "Accuracy: 90.586667\n",
      "coo (6, 1, 12)\n",
      "Accuracy: 90.553333\n",
      "coo (7, 1, 12)\n",
      "Accuracy: 90.813333\n",
      "coo (8, 1, 12)\n",
      "Accuracy: 91.213333\n",
      "coo (9, 1, 12)\n",
      "Accuracy: 91.420000\n",
      "coo (10, 1, 12)\n",
      "Accuracy: 91.400000\n",
      "coo (11, 1, 12)\n",
      "Accuracy: 91.540000\n",
      "coo (12, 1, 12)\n",
      "Accuracy: 91.266667\n",
      "coo (13, 1, 12)\n",
      "Accuracy: 91.446667\n",
      "coo (14, 1, 12)\n",
      "Accuracy: 91.633333\n",
      "coo (15, 1, 12)\n",
      "Accuracy: 91.506667\n",
      "coo (16, 1, 12)\n",
      "Accuracy: 91.473333\n",
      "coo (17, 1, 12)\n",
      "Accuracy: 91.593333\n",
      "coo (18, 1, 12)\n",
      "Accuracy: 91.386667\n",
      "coo (19, 1, 12)\n",
      "Accuracy: 91.340000\n",
      "coo (20, 1, 12)\n",
      "Accuracy: 91.666667\n",
      "coo (21, 1, 12)\n",
      "Accuracy: 91.593333\n",
      "coo (22, 1, 12)\n",
      "Accuracy: 91.806667\n",
      "coo (23, 1, 12)\n",
      "Accuracy: 91.900000\n",
      "coo (24, 1, 12)\n",
      "Accuracy: 91.786667\n",
      "coo (25, 1, 12)\n",
      "Accuracy: 91.973333\n",
      "coo (26, 1, 12)\n",
      "Accuracy: 92.046667\n",
      "coo (27, 1, 12)\n",
      "Accuracy: 92.146667\n",
      "coo (28, 1, 12)\n",
      "Accuracy: 92.066667\n",
      "coo (29, 1, 12)\n",
      "Accuracy: 92.046667\n",
      "coo (30, 1, 12)\n",
      "Accuracy: 92.193333\n",
      "coo (31, 1, 12)\n",
      "Accuracy: 92.113333\n",
      "coo (32, 1, 12)\n",
      "Accuracy: 92.226667\n",
      "coo (33, 1, 12)\n",
      "Accuracy: 92.293333\n",
      "coo (34, 1, 12)\n",
      "Accuracy: 92.480000\n",
      "coo (35, 1, 12)\n",
      "Accuracy: 92.406667\n",
      "coo (36, 1, 12)\n",
      "Accuracy: 92.633333\n",
      "coo (37, 1, 12)\n",
      "Accuracy: 92.600000\n",
      "coo (38, 1, 12)\n",
      "Accuracy: 92.360000\n",
      "coo (39, 1, 12)\n",
      "Accuracy: 92.653333\n",
      "coo (40, 1, 12)\n",
      "Accuracy: 92.733333\n",
      "coo (41, 1, 12)\n",
      "Accuracy: 92.566667\n",
      "coo (42, 1, 12)\n",
      "Accuracy: 92.746667\n",
      "coo (43, 1, 12)\n",
      "Accuracy: 92.933333\n",
      "coo (44, 1, 12)\n",
      "Accuracy: 92.900000\n",
      "coo (45, 1, 12)\n",
      "Accuracy: 92.660000\n",
      "coo (46, 1, 12)\n",
      "Accuracy: 92.780000\n",
      "coo (47, 1, 12)\n",
      "Accuracy: 92.786667\n",
      "coo (48, 1, 12)\n",
      "Accuracy: 92.853333\n",
      "coo (49, 1, 12)\n",
      "Accuracy: 93.073333\n",
      "coo (50, 1, 12)\n",
      "Accuracy: 92.986667\n",
      "coo (51, 1, 12)\n",
      "Accuracy: 93.026667\n",
      "coo (52, 1, 12)\n",
      "Accuracy: 92.960000\n",
      "coo (53, 1, 12)\n",
      "Accuracy: 92.913333\n",
      "coo (54, 1, 12)\n",
      "Accuracy: 92.820000\n",
      "coo (55, 1, 12)\n",
      "Accuracy: 92.720000\n",
      "coo (56, 1, 12)\n",
      "Accuracy: 92.860000\n"
     ]
    }
   ],
   "source": [
    "# 3 different e\n",
    "new=\"no\"\n",
    "dataset_params[\"weights\"]=[0.5,0.5]\n",
    "Acc_threshold=[]\n",
    "Rounds_threshold=[]\n",
    "Time_threshold=[]\n",
    "labels=[[]]\n",
    "l1=[[]]\n",
    "l2=[[]]\n",
    "\n",
    "for i in e_array :\n",
    "    e=i\n",
    "    Acc,n_rounds,time_stamps=main(client,w,new,dataset_params,e,chunks,minibatches[0])\n",
    "    new=\"no\"\n",
    "    Acc_threshold.append(Acc)\n",
    "    Rounds_threshold.append(n_rounds)\n",
    "    Time_threshold.append(time_stamps)\n",
    "    time.sleep(5)\n",
    "E_real1,Acc_real1=real_partial(chunks*minibatches[0])\n",
    "len_real1=np.array([i for i in range(len(Acc_real1))])\n",
    "\n",
    "labels[0]=\"Real\"\n",
    "\n",
    "l1[0]=len_real1\n",
    "l2[0]=Acc_real1"
   ]
  },
  {
   "cell_type": "code",
   "execution_count": null,
   "metadata": {},
   "outputs": [],
   "source": [
    "name=\"Plots/Threshold_2nd_try_4x_w_\"+str(len(w))+\"_samples_\"+str(dataset_params[\"n_samples\"])+\"_features_\"+str(dataset_params[\"n_features\"])+\"_e_\"+str(e_array)+\"_a.png\"\n",
    "plot(l12,l22,Acc_threshold2,Rounds_threshold2,Time_threshold2,e_array2,labels2,name2,'threshold')"
   ]
  },
  {
   "cell_type": "code",
   "execution_count": null,
   "metadata": {},
   "outputs": [],
   "source": [
    "Acc_minibatch=[]\n",
    "Rounds_minibatch=[]\n",
    "Time_minibatch=[]\n",
    "e=0.2\n",
    "for i in minibatches :\n",
    "    minibatch=i\n",
    "    Acc,n_rounds,time_stamps=main(client,w,new,dataset_params,e,chunks,minibatch)\n",
    "    new=\"no\"\n",
    "    Acc_minibatch.append(Acc)\n",
    "    Rounds_minibatch.append(n_rounds)\n",
    "    Time_minibatch.append(time_stamps)\n",
    "    time.sleep(5)"
   ]
  },
  {
   "cell_type": "code",
   "execution_count": null,
   "metadata": {},
   "outputs": [],
   "source": [
    "name=\"Plots/Minibatch__2nd_try_4x_w_\"+str(len(w))+\"_samples_\"+str(dataset_params[\"n_samples\"])+\"_features_\"+str(dataset_params[\"n_features\"])+\"_minib_\"+str(minibatches)+\"_a.png\"\n",
    "plot(l1,l2,Acc_minibatch,Rounds_minibatch,Time_minibatch,minibatches,labels,name,'minibatches')"
   ]
  },
  {
   "cell_type": "markdown",
   "metadata": {},
   "source": [
    "### Save results"
   ]
  },
  {
   "cell_type": "code",
   "execution_count": null,
   "metadata": {},
   "outputs": [],
   "source": [
    "f = open(\"result.txt\", \"a\")\n",
    "f.writelines([\"\\n\\n===========================================================================\"])\n",
    "f.writelines([\"\\nNEW EXPERIMENT:\\nparams:\",str(dataset_params),\"\\nminibaches_size:\"\n",
    "              ,str(minibatches),\"\\ndifferent e's:\",str(e_array),\"\\nn_workers: \",str(len(w))])\n",
    "f.writelines([\"\\n___________________________________________________________________________\"])\n",
    "f.writelines([\"\\nRESULTS:\\nAcc_threshold\",str(Acc_threshold),\"Rounds_threshold\",str(Rounds_threshold),\n",
    "             \"Time_threshold\",str(Time_threshold),\"Acc_minibatch\",str(Acc_minibatch),\"Rounds_minibatch\",str(Rounds_minibatch),\n",
    "             \"Time_minibatch\",str(Time_minibatch),\"Acc_size\",str(Acc_size),\n",
    "              \"Rounds_size\",str(Rounds_size),\"Time_size\",str(Time_size),\n",
    "              \"len_real1\",str(len_real1),\"Acc_real1\",str(Acc_real1)])\n",
    "f.close()"
   ]
  },
  {
   "cell_type": "markdown",
   "metadata": {},
   "source": [
    "### Shutdown client"
   ]
  },
  {
   "cell_type": "code",
   "execution_count": null,
   "metadata": {},
   "outputs": [],
   "source": [
    "client.close()\n",
    "client.shutdown()"
   ]
  }
 ],
 "metadata": {
  "kernelspec": {
   "display_name": "Python 3",
   "language": "python",
   "name": "python3"
  },
  "language_info": {
   "codemirror_mode": {
    "name": "ipython",
    "version": 3
   },
   "file_extension": ".py",
   "mimetype": "text/x-python",
   "name": "python",
   "nbconvert_exporter": "python",
   "pygments_lexer": "ipython3",
   "version": "3.7.6"
  }
 },
 "nbformat": 4,
 "nbformat_minor": 4
}
