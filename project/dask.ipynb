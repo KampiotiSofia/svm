{
 "cells": [
  {
   "cell_type": "code",
   "execution_count": 1,
   "metadata": {},
   "outputs": [
    {
     "name": "stdout",
     "output_type": "stream",
     "text": [
      "<Client: 'tcp://127.0.0.1:42628' processes=33 threads=33, memory=33.69 GB>\n"
     ]
    },
    {
     "data": {
      "text/html": [
       "<table style=\"border: 2px solid white;\">\n",
       "<tr>\n",
       "<td style=\"vertical-align: top; border: 0px solid white\">\n",
       "<h3 style=\"text-align: left;\">Client</h3>\n",
       "<ul style=\"text-align: left; list-style: none; margin: 0; padding: 0;\">\n",
       "  <li><b>Scheduler: </b>tcp://127.0.0.1:42628</li>\n",
       "  <li><b>Dashboard: </b><a href='http://127.0.0.1:8787/status' target='_blank'>http://127.0.0.1:8787/status</a>\n",
       "</ul>\n",
       "</td>\n",
       "<td style=\"vertical-align: top; border: 0px solid white\">\n",
       "<h3 style=\"text-align: left;\">Cluster</h3>\n",
       "<ul style=\"text-align: left; list-style:none; margin: 0; padding: 0;\">\n",
       "  <li><b>Workers: </b>33</li>\n",
       "  <li><b>Cores: </b>33</li>\n",
       "  <li><b>Memory: </b>33.69 GB</li>\n",
       "</ul>\n",
       "</td>\n",
       "</tr>\n",
       "</table>"
      ],
      "text/plain": [
       "<Client: 'tcp://127.0.0.1:42628' processes=33 threads=33, memory=33.69 GB>"
      ]
     },
     "execution_count": 1,
     "metadata": {},
     "output_type": "execute_result"
    }
   ],
   "source": [
    "from client import start_client\n",
    "import matplotlib.pyplot as plt\n",
    "import numpy as np\n",
    "import pandas as pd\n",
    "import time\n",
    "from matplotlib.pyplot import figure\n",
    "from main_func import main,real_partial\n",
    "from plotting import plot, plot_workers, plot_speedup\n",
    "from jupyterthemes import jtplot\n",
    "\n",
    "client,w=start_client(33)\n",
    "client"
   ]
  },
  {
   "cell_type": "code",
   "execution_count": 17,
   "metadata": {},
   "outputs": [
    {
     "data": {
      "text/html": [
       "<div>\n",
       "<style scoped>\n",
       "    .dataframe tbody tr th:only-of-type {\n",
       "        vertical-align: middle;\n",
       "    }\n",
       "\n",
       "    .dataframe tbody tr th {\n",
       "        vertical-align: top;\n",
       "    }\n",
       "\n",
       "    .dataframe thead th {\n",
       "        text-align: right;\n",
       "    }\n",
       "</style>\n",
       "<table border=\"1\" class=\"dataframe\">\n",
       "  <thead>\n",
       "    <tr style=\"text-align: right;\">\n",
       "      <th></th>\n",
       "      <th>n_workers</th>\n",
       "      <th>rounds</th>\n",
       "      <th>subrounds</th>\n",
       "      <th>start_time</th>\n",
       "      <th>wait_time</th>\n",
       "      <th>process_time_sub</th>\n",
       "      <th>process_time_round</th>\n",
       "    </tr>\n",
       "  </thead>\n",
       "  <tbody>\n",
       "    <tr>\n",
       "      <th>0</th>\n",
       "      <td>2.0</td>\n",
       "      <td>2.666667</td>\n",
       "      <td>2.666667</td>\n",
       "      <td>0.015435</td>\n",
       "      <td>0.927970</td>\n",
       "      <td>0.012249</td>\n",
       "      <td>0.007840</td>\n",
       "    </tr>\n",
       "    <tr>\n",
       "      <th>1</th>\n",
       "      <td>4.0</td>\n",
       "      <td>4.333333</td>\n",
       "      <td>5.333333</td>\n",
       "      <td>0.017526</td>\n",
       "      <td>0.636155</td>\n",
       "      <td>0.031705</td>\n",
       "      <td>0.019114</td>\n",
       "    </tr>\n",
       "    <tr>\n",
       "      <th>2</th>\n",
       "      <td>8.0</td>\n",
       "      <td>7.000000</td>\n",
       "      <td>7.000000</td>\n",
       "      <td>0.024061</td>\n",
       "      <td>0.603139</td>\n",
       "      <td>0.062015</td>\n",
       "      <td>0.051826</td>\n",
       "    </tr>\n",
       "    <tr>\n",
       "      <th>3</th>\n",
       "      <td>12.0</td>\n",
       "      <td>6.666667</td>\n",
       "      <td>6.666667</td>\n",
       "      <td>0.037177</td>\n",
       "      <td>0.525471</td>\n",
       "      <td>0.073589</td>\n",
       "      <td>0.056967</td>\n",
       "    </tr>\n",
       "    <tr>\n",
       "      <th>4</th>\n",
       "      <td>16.0</td>\n",
       "      <td>7.000000</td>\n",
       "      <td>7.000000</td>\n",
       "      <td>0.043295</td>\n",
       "      <td>0.549118</td>\n",
       "      <td>0.095496</td>\n",
       "      <td>0.078346</td>\n",
       "    </tr>\n",
       "    <tr>\n",
       "      <th>5</th>\n",
       "      <td>20.0</td>\n",
       "      <td>3.666667</td>\n",
       "      <td>3.666667</td>\n",
       "      <td>0.039200</td>\n",
       "      <td>0.391313</td>\n",
       "      <td>0.048084</td>\n",
       "      <td>0.051239</td>\n",
       "    </tr>\n",
       "    <tr>\n",
       "      <th>6</th>\n",
       "      <td>24.0</td>\n",
       "      <td>4.000000</td>\n",
       "      <td>4.333333</td>\n",
       "      <td>0.044418</td>\n",
       "      <td>0.415802</td>\n",
       "      <td>0.097647</td>\n",
       "      <td>0.067016</td>\n",
       "    </tr>\n",
       "    <tr>\n",
       "      <th>7</th>\n",
       "      <td>28.0</td>\n",
       "      <td>3.000000</td>\n",
       "      <td>3.000000</td>\n",
       "      <td>0.050751</td>\n",
       "      <td>0.346518</td>\n",
       "      <td>0.069036</td>\n",
       "      <td>0.059001</td>\n",
       "    </tr>\n",
       "    <tr>\n",
       "      <th>8</th>\n",
       "      <td>32.0</td>\n",
       "      <td>3.333333</td>\n",
       "      <td>3.333333</td>\n",
       "      <td>0.051791</td>\n",
       "      <td>0.346765</td>\n",
       "      <td>0.122288</td>\n",
       "      <td>0.051533</td>\n",
       "    </tr>\n",
       "  </tbody>\n",
       "</table>\n",
       "</div>"
      ],
      "text/plain": [
       "   n_workers    rounds  subrounds  start_time  wait_time  process_time_sub  \\\n",
       "0        2.0  2.666667   2.666667    0.015435   0.927970          0.012249   \n",
       "1        4.0  4.333333   5.333333    0.017526   0.636155          0.031705   \n",
       "2        8.0  7.000000   7.000000    0.024061   0.603139          0.062015   \n",
       "3       12.0  6.666667   6.666667    0.037177   0.525471          0.073589   \n",
       "4       16.0  7.000000   7.000000    0.043295   0.549118          0.095496   \n",
       "5       20.0  3.666667   3.666667    0.039200   0.391313          0.048084   \n",
       "6       24.0  4.000000   4.333333    0.044418   0.415802          0.097647   \n",
       "7       28.0  3.000000   3.000000    0.050751   0.346518          0.069036   \n",
       "8       32.0  3.333333   3.333333    0.051791   0.346765          0.122288   \n",
       "\n",
       "   process_time_round  \n",
       "0            0.007840  \n",
       "1            0.019114  \n",
       "2            0.051826  \n",
       "3            0.056967  \n",
       "4            0.078346  \n",
       "5            0.051239  \n",
       "6            0.067016  \n",
       "7            0.059001  \n",
       "8            0.051533  "
      ]
     },
     "execution_count": 17,
     "metadata": {},
     "output_type": "execute_result"
    }
   ],
   "source": [
    "# df_coord= pd.DataFrame(columns=['n_workers','rounds','subrounds', 'start_time', 'wait_time', \n",
    "#                           'process_time_sub','process_time_round'])\n",
    "# df_coord.to_csv('data.csv',index=False)\n",
    "\n",
    "df_coord=pd.read_csv('data.csv')\n",
    "\n",
    "# df = df.drop(df.index[0])\n",
    "# df = df.sort_values(by=['n_workers'])\n",
    "# df = df.drop(df.index[3])\n",
    "# df.to_csv('data.csv',index=False)\n",
    "# fig, ax = plt.subplots(figsize=(8,6))\n",
    "# df = df.groupby(['n_workers']).mean().plot(kind='line', ax=ax)\n",
    "# ax.set_ylim(-1,2)\n",
    "# ax.set_ylabel('Time (sec)')\n",
    "# ax.set_xlabel('Workers')\n",
    "# ax.set_title(\"Time needed for different stages of coordinator\\n regarding the number of workers\")\n",
    "# plt.savefig('B_'+\"Plots/Times_try2\")\n",
    "df_coord = df_coord.groupby(['n_workers']).mean()\n",
    "df_coord= df_coord.reset_index()\n",
    "df_coord"
   ]
  },
  {
   "cell_type": "code",
   "execution_count": 28,
   "metadata": {
    "scrolled": false
   },
   "outputs": [
    {
     "data": {
      "text/html": [
       "<div>\n",
       "<style scoped>\n",
       "    .dataframe tbody tr th:only-of-type {\n",
       "        vertical-align: middle;\n",
       "    }\n",
       "\n",
       "    .dataframe tbody tr th {\n",
       "        vertical-align: top;\n",
       "    }\n",
       "\n",
       "    .dataframe thead th {\n",
       "        text-align: right;\n",
       "    }\n",
       "</style>\n",
       "<table border=\"1\" class=\"dataframe\">\n",
       "  <thead>\n",
       "    <tr style=\"text-align: right;\">\n",
       "      <th></th>\n",
       "      <th>n_workers</th>\n",
       "      <th>start_time</th>\n",
       "      <th>wait_time</th>\n",
       "      <th>train_time</th>\n",
       "    </tr>\n",
       "  </thead>\n",
       "  <tbody>\n",
       "    <tr>\n",
       "      <th>0</th>\n",
       "      <td>4.0</td>\n",
       "      <td>0.003129</td>\n",
       "      <td>0.166135</td>\n",
       "      <td>0.414437</td>\n",
       "    </tr>\n",
       "    <tr>\n",
       "      <th>1</th>\n",
       "      <td>4.0</td>\n",
       "      <td>0.003217</td>\n",
       "      <td>0.167011</td>\n",
       "      <td>0.429850</td>\n",
       "    </tr>\n",
       "    <tr>\n",
       "      <th>2</th>\n",
       "      <td>4.0</td>\n",
       "      <td>0.003747</td>\n",
       "      <td>0.167049</td>\n",
       "      <td>0.452577</td>\n",
       "    </tr>\n",
       "    <tr>\n",
       "      <th>3</th>\n",
       "      <td>4.0</td>\n",
       "      <td>0.002646</td>\n",
       "      <td>0.175532</td>\n",
       "      <td>0.398559</td>\n",
       "    </tr>\n",
       "    <tr>\n",
       "      <th>4</th>\n",
       "      <td>4.0</td>\n",
       "      <td>0.002147</td>\n",
       "      <td>0.173071</td>\n",
       "      <td>0.414074</td>\n",
       "    </tr>\n",
       "    <tr>\n",
       "      <th>...</th>\n",
       "      <td>...</td>\n",
       "      <td>...</td>\n",
       "      <td>...</td>\n",
       "      <td>...</td>\n",
       "    </tr>\n",
       "    <tr>\n",
       "      <th>120</th>\n",
       "      <td>32.0</td>\n",
       "      <td>0.001235</td>\n",
       "      <td>0.310874</td>\n",
       "      <td>0.097907</td>\n",
       "    </tr>\n",
       "    <tr>\n",
       "      <th>121</th>\n",
       "      <td>32.0</td>\n",
       "      <td>0.001418</td>\n",
       "      <td>0.302116</td>\n",
       "      <td>0.131891</td>\n",
       "    </tr>\n",
       "    <tr>\n",
       "      <th>122</th>\n",
       "      <td>32.0</td>\n",
       "      <td>0.001954</td>\n",
       "      <td>0.307267</td>\n",
       "      <td>0.135772</td>\n",
       "    </tr>\n",
       "    <tr>\n",
       "      <th>123</th>\n",
       "      <td>32.0</td>\n",
       "      <td>0.001910</td>\n",
       "      <td>0.302376</td>\n",
       "      <td>0.152780</td>\n",
       "    </tr>\n",
       "    <tr>\n",
       "      <th>124</th>\n",
       "      <td>32.0</td>\n",
       "      <td>0.002274</td>\n",
       "      <td>0.326102</td>\n",
       "      <td>0.153991</td>\n",
       "    </tr>\n",
       "  </tbody>\n",
       "</table>\n",
       "<p>125 rows × 4 columns</p>\n",
       "</div>"
      ],
      "text/plain": [
       "     n_workers  start_time  wait_time  train_time\n",
       "0          4.0    0.003129   0.166135    0.414437\n",
       "1          4.0    0.003217   0.167011    0.429850\n",
       "2          4.0    0.003747   0.167049    0.452577\n",
       "3          4.0    0.002646   0.175532    0.398559\n",
       "4          4.0    0.002147   0.173071    0.414074\n",
       "..         ...         ...        ...         ...\n",
       "120       32.0    0.001235   0.310874    0.097907\n",
       "121       32.0    0.001418   0.302116    0.131891\n",
       "122       32.0    0.001954   0.307267    0.135772\n",
       "123       32.0    0.001910   0.302376    0.152780\n",
       "124       32.0    0.002274   0.326102    0.153991\n",
       "\n",
       "[125 rows x 4 columns]"
      ]
     },
     "execution_count": 28,
     "metadata": {},
     "output_type": "execute_result"
    }
   ],
   "source": [
    "# df_worker= pd.DataFrame(columns=['n_workers','start_time','wait_time','train_time'])\n",
    "# df_worker.to_csv('data_workers.csv',index=False)\n",
    "\n",
    "df_worker=pd.read_csv('data_workers.csv')\n",
    "# df_worker = df_worker.groupby(['n_workers']).mean()\n",
    "# df_worker= df_worker.reset_index()\n",
    "df_worker"
   ]
  },
  {
   "cell_type": "code",
   "execution_count": 4,
   "metadata": {},
   "outputs": [],
   "source": [
    "df_coord.to_csv('data.csv',index=False)\n",
    "df_worker.to_csv('data_workers.csv',index=False)"
   ]
  },
  {
   "cell_type": "code",
   "execution_count": 32,
   "metadata": {},
   "outputs": [
    {
     "data": {
      "image/png": "[encoded data removed]",
      "text/plain": [
       "<Figure size 460.8x403.2 with 1 Axes>"
      ]
     },
     "metadata": {},
     "output_type": "display_data"
    }
   ],
   "source": [
    "jtplot.style(theme='grade3')\n",
    "ax = plt.gca()\n",
    "\n",
    "df_coord.plot(kind='line',x='n_workers',y='start_time',ax=ax)\n",
    "df_coord.plot(kind='line',x='n_workers',y='wait_time', ax=ax)\n",
    "df_coord.plot(kind='line',x='n_workers',y='process_time_sub', ax=ax)\n",
    "df_coord.plot(kind='line',x='n_workers',y='process_time_round', ax=ax)\n",
    "ax.set_ylim(-1,1.5)\n",
    "ax.set_ylabel('Time (sec)')\n",
    "ax.set_xlabel('Workers')\n",
    "ax.set_title(\"Time needed for different stages of coordinator\\n regarding the number of workers\")\n",
    "\n",
    "plt.show()\n"
   ]
  },
  {
   "cell_type": "markdown",
   "metadata": {},
   "source": [
    "### Main function\n",
    "- make_classification parameters: https://scikit-learn.org/stable/modules/generated/sklearn.datasets.make_classification.html?highlight=make_classification#sklearn.datasets.make_classification\n",
    "- choose e, and chunk size\n",
    "- run multiple times to produce plots\n"
   ]
  },
  {
   "cell_type": "markdown",
   "metadata": {},
   "source": [
    "### Initialize\n",
    "***"
   ]
  },
  {
   "cell_type": "code",
   "execution_count": 6,
   "metadata": {},
   "outputs": [],
   "source": [
    "jtplot.style(theme='grade3') #light plot theme\n",
    "\n",
    "batches=30000 #number of minibatches\n",
    "batch_size=1 #size of each minibatch\n",
    "e=0.8 #tolerance for φ(χ)\n",
    "\n",
    "#compute samples size\n",
    "training_s=batches*batch_size\n",
    "n_samples=int(3*training_s/2) # 1/3 of the samples will be used for testing\n",
    "\n",
    "#parameters for make classification\n",
    "dataset_params={\n",
    "    \"n_samples\":n_samples,\n",
    "    \"n_features\":1000,\n",
    "    \"n_informative\":10,\n",
    "    \"n_redundant\":0,\n",
    "    \"n_repeated\":0,\n",
    "    \"n_classes\":2,\n",
    "    \"n_clusters_per_class\":1,\n",
    "    \"flip_y\":0.2,\n",
    "    \"weights\":[0.7,0.3],\n",
    "    \"random_state\":17\n",
    "}\n",
    "threshold=0.03\n",
    "\n",
    "chunks=100\n",
    "e_array=[0.01,0.1,0.3,0.8]\n",
    "e=0.3\n",
    "sizes=[30000,50000,100000,150000,200000,300000]\n",
    "minibatches=[10,50,100]\n",
    "new=\"no\" #choose if you want to recreate the dataset"
   ]
  },
  {
   "cell_type": "markdown",
   "metadata": {},
   "source": [
    "### Dataset with no noise flip_y=0\n",
    "***\n",
    "#### Balanced\n",
    "- weights=[0.5,0,5]"
   ]
  },
  {
   "cell_type": "code",
   "execution_count": 7,
   "metadata": {},
   "outputs": [
    {
     "name": "stdout",
     "output_type": "stream",
     "text": [
      "-------------------------------------------------------------\n",
      "\n",
      "Start with num of chunks: 100 ,e: 0.3\n",
      "Minibatch size: 30.0\n",
      "Number of chunks for each worker:  3\n",
      "In progress...\n",
      "[1, 32, 0.23279523849487305]\n",
      "Accuracy: 84.460000\n",
      "[2, 32, 0.45438694953918457]\n",
      "Accuracy: 85.053333\n",
      "[3, 3, 0.5363039970397949]\n",
      "Accuracy: 75.480000\n",
      "[4, 0, 0.675433874130249]\n",
      "Accuracy: 70.846667\n",
      "\n",
      "**\n",
      " Pass 0 completed\n",
      "**\n",
      "\n",
      "Total time [0.675433874130249]\n",
      "-------------------------------------------------------------\n",
      "\n",
      "Start with num of chunks: 100 ,e: 0.3\n",
      "Minibatch size: 30.0\n",
      "Number of chunks for each worker:  3\n",
      "In progress...\n",
      "[1, 32, 0.1840043067932129]\n",
      "Accuracy: 84.213333\n",
      "[2, 29, 0.388765811920166]\n",
      "Accuracy: 84.673333\n",
      "[3, 0, 0.5004549026489258]\n",
      "Accuracy: 76.780000\n",
      "\n",
      "**\n",
      " Pass 0 completed\n",
      "**\n",
      "\n",
      "Total time [0.5004549026489258]\n",
      "-------------------------------------------------------------\n",
      "\n",
      "Start with num of chunks: 100 ,e: 0.3\n",
      "Minibatch size: 30.0\n",
      "Number of chunks for each worker:  3\n",
      "In progress...\n",
      "[1, 32, 0.17602849006652832]\n",
      "Accuracy: 84.493333\n",
      "[2, 32, 0.29160523414611816]\n",
      "Accuracy: 84.553333\n",
      "[3, 0, 0.543853759765625]\n",
      "Accuracy: 84.546667\n",
      "\n",
      "**\n",
      " Pass 0 completed\n",
      "**\n",
      "\n",
      "Total time [0.543853759765625]\n"
     ]
    }
   ],
   "source": [
    "# 3 different e\n",
    "new=\"no\"\n",
    "dataset_params[\"weights\"]=[0.5,0.5]\n",
    "Acc_threshold=[]\n",
    "Rounds_threshold=[]\n",
    "Time_threshold=[]\n",
    "total_time_list=[]\n",
    "total_acc_list=[]\n",
    "labels=[[]]\n",
    "\n",
    "for i in range(3):\n",
    "    Acc,time_l,total_rounds,total_time,total_acc=main(client,w,new,dataset_params,e,chunks,minibatches[0])\n",
    "    new=\"no\"\n",
    "    total_time_list.append(total_time)\n",
    "    total_acc_list.append(total_acc)\n",
    "    Acc_threshold.append(Acc)\n",
    "    Rounds_threshold.append(total_rounds)\n",
    "    Time_threshold.append(time_l)\n",
    "    time.sleep(2)"
   ]
  },
  {
   "cell_type": "code",
   "execution_count": 8,
   "metadata": {},
   "outputs": [],
   "source": [
    "total_time_mean=[sum(suby) / len(suby) for suby in zip(*total_time_list)] \n",
    "total_acc_mean=[sum(suby) / len(suby) for suby in zip(*total_acc_list)] \n",
    "name1=\"np_arrays/total/total_time\"+str(len(w)-1)\n",
    "name2=\"np_arrays/total/total_acc\"+str(len(w)-1)\n",
    "name3=\"np_arrays/total/total_time_mean\"+str(len(w)-1)\n",
    "name4=\"np_arrays/total/total_acc_mean\"+str(len(w)-1)\n",
    "np.save(name1,total_time_list)\n",
    "np.save(name2,total_acc_list)\n",
    "np.save(name3,total_time_mean)\n",
    "np.save(name4,total_acc_mean)\n"
   ]
  },
  {
   "cell_type": "code",
   "execution_count": 9,
   "metadata": {},
   "outputs": [],
   "source": [
    "# centr=client.submit(real_partial,minibatches[1],workers=w[0])\n",
    "# time_centr,Acc_real1,f_acc=centr.result()\n",
    "# t_list,time_centr,Acc_real1,f_acc=real_partial(10)\n",
    "# len_real1=np.array([i for i in range(len(Acc_real1))])\n",
    "# labels='centralized'\n",
    "# np.save('np_arrays/time_centr',time_centr)\n",
    "# np.save('np_arrays/Acc_real1',Acc_real1)\n",
    "# np.save('np_arrays/f_acc',f_acc)"
   ]
  },
  {
   "cell_type": "code",
   "execution_count": 10,
   "metadata": {
    "scrolled": true
   },
   "outputs": [],
   "source": [
    "# time_centr=np.load('np_arrays/time_centr.npy')\n",
    "# f_acc=np.load('np_arrays/f_acc.npy')\n",
    "# plot_workers([4,8,12,16,20,24,28,32],time_centr,f_acc)\n",
    "# plot_speedup([4,8,12,16,20,24,28,32],time_centr,f_acc)"
   ]
  },
  {
   "cell_type": "code",
   "execution_count": 11,
   "metadata": {
    "scrolled": true
   },
   "outputs": [],
   "source": [
    "# name=\"Plots/test2.png\"\n",
    "# plot(t_list,Acc_real1,Acc_threshold,Rounds_threshold,Time_threshold,e_array,'centralized',name,'threshold')"
   ]
  },
  {
   "cell_type": "code",
   "execution_count": 12,
   "metadata": {},
   "outputs": [],
   "source": [
    "# from IPython.display import Audio, display\n",
    "# display(Audio(url='http://peal.io/download/5e289.wav', autoplay=True))\n",
    "# http://peal.io/download/mr5xx.wav"
   ]
  },
  {
   "cell_type": "code",
   "execution_count": 13,
   "metadata": {},
   "outputs": [],
   "source": [
    "# Acc_minibatch=[]\n",
    "# Rounds_minibatch=[]\n",
    "# Time_minibatch=[]\n",
    "# e=0.2\n",
    "# for i in minibatches :\n",
    "#     minibatch=i\n",
    "#     Acc,n_rounds,time_stamps=main(client,w,new,dataset_params,e,chunks,minibatch)\n",
    "#     new=\"no\"\n",
    "#     Acc_minibatch.append(Acc)\n",
    "#     Rounds_minibatch.append(n_rounds)\n",
    "#     Time_minibatch.append(time_stamps)\n",
    "#     time.sleep(5)"
   ]
  },
  {
   "cell_type": "code",
   "execution_count": 14,
   "metadata": {},
   "outputs": [],
   "source": [
    "# name=\"Plots/Minibatch_4x_w_\"+str(len(w))+\"_samples_\"+str(dataset_params[\"n_samples\"])+\"_features_\"+str(dataset_params[\"n_features\"])+\"_minib_\"+str(minibatches)+\".png\"\n",
    "# plot(l1,l2,Acc_minibatch,Rounds_minibatch,Time_minibatch,minibatches,labels,name,'minibatches')"
   ]
  },
  {
   "cell_type": "markdown",
   "metadata": {},
   "source": [
    "### Save results"
   ]
  },
  {
   "cell_type": "code",
   "execution_count": 15,
   "metadata": {},
   "outputs": [],
   "source": [
    "# f = open(\"result.txt\", \"a\")\n",
    "# f.writelines([\"\\n\\n===========================================================================\"])\n",
    "# f.writelines([\"\\nNEW EXPERIMENT:\\nparams:\",str(dataset_params),\"\\nminibaches_size:\"\n",
    "#               ,str(minibatches),\"\\ndifferent e's:\",str(e_array),\"\\nn_workers: \",str(len(w))])\n",
    "# f.writelines([\"\\n___________________________________________________________________________\"])\n",
    "# f.writelines([\"\\nRESULTS:\\nAcc_threshold\",str(Acc_threshold),\"\\nRounds_threshold\",str(Rounds_threshold),\n",
    "#              \"\\nTime_threshold\",str(Time_threshold),\"\\nlen_real1\",str(len_real1),\"\\nAcc_real1\",str(Acc_real1)])\n",
    "# f.close()"
   ]
  },
  {
   "cell_type": "markdown",
   "metadata": {},
   "source": [
    "### Shutdown client"
   ]
  },
  {
   "cell_type": "code",
   "execution_count": 16,
   "metadata": {},
   "outputs": [],
   "source": [
    "client.close()\n",
    "client.shutdown()"
   ]
  }
 ],
 "metadata": {
  "kernelspec": {
   "display_name": "Python 3",
   "language": "python",
   "name": "python3"
  },
  "language_info": {
   "codemirror_mode": {
    "name": "ipython",
    "version": 3
   },
   "file_extension": ".py",
   "mimetype": "text/x-python",
   "name": "python",
   "nbconvert_exporter": "python",
   "pygments_lexer": "ipython3",
   "version": "3.7.6"
  }
 },
 "nbformat": 4,
 "nbformat_minor": 4
}
