{
 "cells": [
  {
   "cell_type": "code",
   "execution_count": 1,
   "metadata": {
    "scrolled": false
   },
   "outputs": [
    {
     "name": "stdout",
     "output_type": "stream",
     "text": [
      "<Client: 'tcp://127.0.0.1:35593' processes=5 threads=5, memory=33.69 GB>\n"
     ]
    },
    {
     "data": {
      "text/html": [
       "<table style=\"border: 2px solid white;\">\n",
       "<tr>\n",
       "<td style=\"vertical-align: top; border: 0px solid white\">\n",
       "<h3 style=\"text-align: left;\">Client</h3>\n",
       "<ul style=\"text-align: left; list-style: none; margin: 0; padding: 0;\">\n",
       "  <li><b>Scheduler: </b>tcp://127.0.0.1:35593</li>\n",
       "  <li><b>Dashboard: </b><a href='http://127.0.0.1:8787/status' target='_blank'>http://127.0.0.1:8787/status</a>\n",
       "</ul>\n",
       "</td>\n",
       "<td style=\"vertical-align: top; border: 0px solid white\">\n",
       "<h3 style=\"text-align: left;\">Cluster</h3>\n",
       "<ul style=\"text-align: left; list-style:none; margin: 0; padding: 0;\">\n",
       "  <li><b>Workers: </b>5</li>\n",
       "  <li><b>Cores: </b>5</li>\n",
       "  <li><b>Memory: </b>33.69 GB</li>\n",
       "</ul>\n",
       "</td>\n",
       "</tr>\n",
       "</table>"
      ],
      "text/plain": [
       "<Client: 'tcp://127.0.0.1:35593' processes=5 threads=5, memory=33.69 GB>"
      ]
     },
     "execution_count": 1,
     "metadata": {},
     "output_type": "execute_result"
    }
   ],
   "source": [
    "from client import start_client\n",
    "import matplotlib.pyplot as plt\n",
    "import numpy as np\n",
    "\n",
    "client,w=start_client(5)\n",
    "client"
   ]
  },
  {
   "cell_type": "code",
   "execution_count": 2,
   "metadata": {
    "scrolled": true
   },
   "outputs": [
    {
     "name": "stdout",
     "output_type": "stream",
     "text": [
      "coo ([array([ 13.63456408,  16.20591558,   9.04995826, -15.87546396]), 0.02075826015218496], 1, [1])\n",
      "Accuracy: 91.666667\n",
      "coo ([array([14.69644764, 17.07903   , 14.26638323, 14.44347268]), -9.83111874585525], 1, [1])\n",
      "Accuracy: 81.666667\n",
      "coo ([array([ 13.39926671,  15.87415004,   9.49790684, -11.3760627 ]), -19.51166085621343], 1, [1])\n",
      "Accuracy: 87.000000\n",
      "coo ([array([20.02399201, 23.50667402, 16.6964859 ,  0.50423011]), -9.85915120370378], 1, [1])\n",
      "Accuracy: 90.666667\n",
      "coo ([array([ 20.48768209,  24.28247005,  14.39889114, -18.25833232]), -0.4161793871864763], 1, [2])\n",
      "Accuracy: 92.666667\n",
      "coo ([array([27.20564253, 32.03862934, 21.51071734, -7.52621147]), 8.600953164662036], 2, [4, 2])\n",
      "Accuracy: 92.666667\n",
      "coo ([array([19.67149994, 23.07973933, 16.55489968,  1.56079229]), -9.224372937922555], 1, [1])\n",
      "Accuracy: 90.666667\n",
      "coo ([array([22.65841811, 26.52459002, 19.75947686,  6.63000766]), -0.42155603651410445], 1, [2])\n",
      "Accuracy: 89.666667\n",
      "coo ([array([15.48330666, 18.17173803, 12.96265423,  0.75569659]), -0.4439087322492128], 1, [2])\n",
      "Accuracy: 92.333333\n",
      "coo ([array([29.92783098, 35.05716567, 25.83449355,  6.90822138]), 25.28518038756488], 1, [1])\n",
      "Accuracy: 89.333333\n",
      "coo ([array([23.61199112, 27.72365513, 19.63098436,  0.19407838]), 33.660354341644876], 1, [3])\n",
      "Accuracy: 87.333333\n",
      "coo ([array([16.2960693 , 19.17691821, 13.04824076, -3.36524659]), 25.63467215865932], 2, [5, 1])\n",
      "Accuracy: 87.000000\n",
      "coo ([array([24.66504756, 28.95992609, 20.50833826,  0.21563069]), 41.57101820212809], 1, [1])\n",
      "Accuracy: 85.000000\n",
      "coo ([array([20.29135163, 23.7588474 , 17.63480152,  5.51455778]), 27.02555596320591], 6, [2, 2, 5, 2, 1, 1])\n",
      "Accuracy: 85.666667\n",
      "coo ([array([13.99005909, 16.27188386, 13.42106931, 12.63298194]), 12.921120476326866], 1, [5])\n",
      "Accuracy: 80.666667\n",
      "coo ([array([13.80231404, 15.88716567, 15.17014117, 25.95666568]), 12.935842567413424], 1, [1])\n",
      "Accuracy: 74.333333\n",
      "coo ([array([18.9541434 , 21.85566786, 20.38621767, 32.52362464]), 6.421184586957398], 7, [2, 2, 1, 1, 1, 1, 4])\n",
      "Accuracy: 75.333333\n",
      "coo ([array([17.19217617, 19.94123161, 17.13131375, 19.98935226]), -0.00970491844332777], 1, [2])\n",
      "Accuracy: 81.000000\n",
      "coo ([array([26.60488779, 30.83273015, 26.81593893, 33.06841855]), 6.404663266290475], 1, [1])\n",
      "Accuracy: 79.333333\n",
      "coo ([array([22.16819793, 25.68975415, 22.35845504, 27.65458274]), 6.418869426081361], 5, [3, 2, 2, 2, 4])\n",
      "Accuracy: 79.333333\n",
      "coo ([array([21.77071015, 25.35761439, 20.46743673, 16.73642325]), 12.277100240375443], 1, [3])\n",
      "Accuracy: 84.333333\n",
      "coo ([array([22.10383553, 25.99067627, 17.93875193, -2.88428118]), 23.582937190266428], 2, [6, 1])\n",
      "Accuracy: 91.666667\n",
      "coo ([array([26.64398174, 31.04742319, 24.89096153, 19.37759251]), 23.59241814255916], 1, [1])\n",
      "Accuracy: 84.000000\n",
      "coo ([array([24.00188419, 27.98835188, 22.1944138 , 15.85936506]), 23.577214918016047], 1, [4])\n",
      "Accuracy: 84.666667\n",
      "coo ([array([30.06703399, 35.025634  , 28.2113549 , 22.72430983]), 18.160096824841617], 2, [2, 2])\n",
      "Accuracy: 84.333333\n",
      "\n",
      "End of chunks...\n",
      "Coordinator: finished ...\n",
      "Workers: ['finished', 'finished', 'finished', 'finished']\n",
      "coo ([array([30.06703399, 35.025634  , 28.2113549 , 22.72430983]), 18.160096824841617], 2, [2, 2])\n",
      "Accuracy: 84.333333\n",
      "Finished with no error...\n"
     ]
    }
   ],
   "source": [
    "from main_func import main\n",
    "#feed client,workers,num of samples,num of features,parts and e\n",
    "E_array,feature_array,Acc,Rounds,Subs=main(client,w,1200,4,100,0.1)"
   ]
  },
  {
   "cell_type": "code",
   "execution_count": 3,
   "metadata": {},
   "outputs": [
    {
     "ename": "NameError",
     "evalue": "name 'real_partial' is not defined",
     "output_type": "error",
     "traceback": [
      "\u001b[0;31m---------------------------------------------------------------------------\u001b[0m",
      "\u001b[0;31mNameError\u001b[0m                                 Traceback (most recent call last)",
      "\u001b[0;32m<ipython-input-3-1f3078a4c5bd>\u001b[0m in \u001b[0;36m<module>\u001b[0;34m\u001b[0m\n\u001b[0;32m----> 1\u001b[0;31m \u001b[0mreal_partial\u001b[0m\u001b[0;34m(\u001b[0m\u001b[0;36m100\u001b[0m\u001b[0;34m)\u001b[0m\u001b[0;34m\u001b[0m\u001b[0;34m\u001b[0m\u001b[0m\n\u001b[0m",
      "\u001b[0;31mNameError\u001b[0m: name 'real_partial' is not defined"
     ]
    }
   ],
   "source": [
    "from main_func import real_partial\n",
    "real_partial(100)"
   ]
  },
  {
   "cell_type": "code",
   "execution_count": null,
   "metadata": {},
   "outputs": [],
   "source": [
    "import matplotlib.pyplot as plt\n",
    "\n",
    "plt.plot(Rounds,Acc)\n",
    "Rounds\n",
    "# plt.legend([i for i in range(len(Acc))], loc='upper left')\n"
   ]
  }
 ],
 "metadata": {
  "kernelspec": {
   "display_name": "Python 3",
   "language": "python",
   "name": "python3"
  },
  "language_info": {
   "codemirror_mode": {
    "name": "ipython",
    "version": 3
   },
   "file_extension": ".py",
   "mimetype": "text/x-python",
   "name": "python",
   "nbconvert_exporter": "python",
   "pygments_lexer": "ipython3",
   "version": "3.7.6"
  }
 },
 "nbformat": 4,
 "nbformat_minor": 4
}
