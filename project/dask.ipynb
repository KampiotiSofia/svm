{
 "cells": [
  {
   "cell_type": "code",
   "execution_count": 1,
   "metadata": {
    "scrolled": false
   },
   "outputs": [
    {
     "name": "stdout",
     "output_type": "stream",
     "text": [
      "<Client: 'tcp://127.0.0.1:39423' processes=5 threads=5, memory=33.69 GB>\n"
     ]
    },
    {
     "data": {
      "text/html": [
       "<table style=\"border: 2px solid white;\">\n",
       "<tr>\n",
       "<td style=\"vertical-align: top; border: 0px solid white\">\n",
       "<h3 style=\"text-align: left;\">Client</h3>\n",
       "<ul style=\"text-align: left; list-style: none; margin: 0; padding: 0;\">\n",
       "  <li><b>Scheduler: </b>tcp://127.0.0.1:39423</li>\n",
       "  <li><b>Dashboard: </b><a href='http://127.0.0.1:8787/status' target='_blank'>http://127.0.0.1:8787/status</a>\n",
       "</ul>\n",
       "</td>\n",
       "<td style=\"vertical-align: top; border: 0px solid white\">\n",
       "<h3 style=\"text-align: left;\">Cluster</h3>\n",
       "<ul style=\"text-align: left; list-style:none; margin: 0; padding: 0;\">\n",
       "  <li><b>Workers: </b>5</li>\n",
       "  <li><b>Cores: </b>5</li>\n",
       "  <li><b>Memory: </b>33.69 GB</li>\n",
       "</ul>\n",
       "</td>\n",
       "</tr>\n",
       "</table>"
      ],
      "text/plain": [
       "<Client: 'tcp://127.0.0.1:39423' processes=5 threads=5, memory=33.69 GB>"
      ]
     },
     "execution_count": 1,
     "metadata": {},
     "output_type": "execute_result"
    }
   ],
   "source": [
    "from client import start_client\n",
    "import numpy as np\n",
    "\n",
    "client,w=start_client(5)\n",
    "client"
   ]
  },
  {
   "cell_type": "code",
   "execution_count": 2,
   "metadata": {
    "scrolled": true
   },
   "outputs": [
    {
     "name": "stdout",
     "output_type": "stream",
     "text": [
      "coo ([array([-15.78093963,  -7.96381499,  26.54580668,  -9.93710109]), -9.81279338689866], 1, 1, [1])\n",
      "Accuracy: 83.333333\n",
      "coo ([array([ -3.64924111,  13.35352759,  15.30306978, -19.5662096 ]), -9.842139046673337], 1, 15, [15])\n",
      "Accuracy: 73.333333\n",
      "coo ([array([-13.91724482, -10.60407132,  21.25116164,  -4.69422817]), -18.374562254864465], 1, 1, [1])\n",
      "Accuracy: 81.666667\n",
      "coo ([array([-13.91724482, -10.60407132,  21.25116164,  -4.69422817]), -18.374562254864465], 1, 1, [])\n",
      "Accuracy: 81.666667\n",
      "\n",
      "End of chunks.For now on E will stay the same!\n",
      "['finished', 'finished', 'finished', 'finished', 'finished']\n",
      "finished\n",
      "coo ([array([-13.91724482, -10.60407132,  21.25116164,  -4.69422817]), -18.374562254864465], 1, 1, [])\n",
      "Accuracy: 81.666667\n"
     ]
    }
   ],
   "source": [
    "from main_func import main\n",
    "#feed client,workers,num of samples and num of features\n",
    "main(client,w,240,4)"
   ]
  }
 ],
 "metadata": {
  "kernelspec": {
   "display_name": "Python 3",
   "language": "python",
   "name": "python3"
  },
  "language_info": {
   "codemirror_mode": {
    "name": "ipython",
    "version": 3
   },
   "file_extension": ".py",
   "mimetype": "text/x-python",
   "name": "python",
   "nbconvert_exporter": "python",
   "pygments_lexer": "ipython3",
   "version": "3.7.6"
  }
 },
 "nbformat": 4,
 "nbformat_minor": 4
}
