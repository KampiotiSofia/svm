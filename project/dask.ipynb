{
 "cells": [
  {
   "cell_type": "code",
   "execution_count": 1,
   "metadata": {
    "scrolled": false
   },
   "outputs": [
    {
     "name": "stdout",
     "output_type": "stream",
     "text": [
      "<Client: 'tcp://127.0.0.1:44358' processes=5 threads=5, memory=33.69 GB>\n"
     ]
    },
    {
     "data": {
      "text/html": [
       "<table style=\"border: 2px solid white;\">\n",
       "<tr>\n",
       "<td style=\"vertical-align: top; border: 0px solid white\">\n",
       "<h3 style=\"text-align: left;\">Client</h3>\n",
       "<ul style=\"text-align: left; list-style: none; margin: 0; padding: 0;\">\n",
       "  <li><b>Scheduler: </b>tcp://127.0.0.1:44358</li>\n",
       "  <li><b>Dashboard: </b><a href='http://127.0.0.1:8787/status' target='_blank'>http://127.0.0.1:8787/status</a>\n",
       "</ul>\n",
       "</td>\n",
       "<td style=\"vertical-align: top; border: 0px solid white\">\n",
       "<h3 style=\"text-align: left;\">Cluster</h3>\n",
       "<ul style=\"text-align: left; list-style:none; margin: 0; padding: 0;\">\n",
       "  <li><b>Workers: </b>5</li>\n",
       "  <li><b>Cores: </b>5</li>\n",
       "  <li><b>Memory: </b>33.69 GB</li>\n",
       "</ul>\n",
       "</td>\n",
       "</tr>\n",
       "</table>"
      ],
      "text/plain": [
       "<Client: 'tcp://127.0.0.1:44358' processes=5 threads=5, memory=33.69 GB>"
      ]
     },
     "execution_count": 1,
     "metadata": {},
     "output_type": "execute_result"
    }
   ],
   "source": [
    "from client import start_client\n",
    "import matplotlib.pyplot as plt\n",
    "import numpy as np\n",
    "from matplotlib.pyplot import figure\n",
    "\n",
    "client,w=start_client(5)\n",
    "client"
   ]
  },
  {
   "cell_type": "markdown",
   "metadata": {},
   "source": [
    "### Main function\n",
    "- make_classification parameters: https://scikit-learn.org/stable/modules/generated/sklearn.datasets.make_classification.html?highlight=make_classification#sklearn.datasets.make_classification\n"
   ]
  },
  {
   "cell_type": "code",
   "execution_count": 2,
   "metadata": {},
   "outputs": [],
   "source": [
    "from main_func import main\n",
    "\n",
    "batches=100 #number of minibatches\n",
    "batch_size=1 #size of each minibatch\n",
    "e=0.02 #tolerance for φ(χ)\n",
    "\n",
    "#compute samples size\n",
    "training_s=batches*batch_size\n",
    "n_samples=int(3*training_s/2) # 1/3 of the samples will be used for testing\n",
    "\n",
    "#parameters for make classification\n",
    "dataset_params={\n",
    "    \"n_samples\":n_samples,\n",
    "    \"n_features\":4,\n",
    "    \"n_informative\":2,\n",
    "    \"n_redundant\":0,\n",
    "    \"n_repeated\":0,\n",
    "    \"n_classes\":2,\n",
    "    \"n_clusters_per_class\":1,\n",
    "    \"flip_y\":0,\n",
    "    \"weights\":[0.5,0.5],\n",
    "    \"random_state\":17\n",
    "}\n",
    "new=\"yes\""
   ]
  },
  {
   "cell_type": "code",
   "execution_count": null,
   "metadata": {},
   "outputs": [
    {
     "name": "stdout",
     "output_type": "stream",
     "text": [
      "A new dataset has been created...\n",
      "coo ([array([ 0.10241722, 10.19187566, 19.7717096 , -8.92807595]), 0.03984063745019917], 1, [4])\n",
      "Accuracy: 76.000000\n",
      "coo ([array([ -5.86814294,  -4.93061784,  21.0104263 , -11.16684271]), 9.980198490332903], 1, [2])\n",
      "Accuracy: 64.000000\n",
      "coo ([array([  3.86109279, -20.45468102,  28.55820801,  -1.57374929]), 0.05956356969798193], 1, [2])\n",
      "Accuracy: 72.000000\n",
      "coo ([array([  7.01838206, -12.73345998,  20.04962837,   2.74826856]), -9.782956115341387], 1, [8])\n",
      "Accuracy: 72.000000\n",
      "coo ([array([17.86025415, -1.05123976, 26.67177251, -5.46416601]), 0.04988557590738374], 1, [1])\n",
      "Accuracy: 82.000000\n",
      "coo ([array([ -2.9586906 ,  -8.20759438,  31.3894422 , -10.25173868]), 9.86342826481808], 1, [2])\n",
      "Accuracy: 76.000000\n",
      "coo ([array([-6.63227359, -5.16454747, 36.474265  , -3.93649583]), 0.05950669619062943], 1, [1])\n",
      "Accuracy: 80.000000\n",
      "coo ([array([-4.26763229, -8.79319392, 12.9463704 , 20.45512196]), 9.815604257166239], 1, [5])\n",
      "Accuracy: 84.000000\n",
      "coo ([array([-5.4809463 ,  4.82945417, 35.22048303, -2.18754208]), 19.552702601859522], 1, [2])\n",
      "Accuracy: 84.000000\n",
      "coo ([array([-13.07680721,   4.65203148,  37.7365158 ,   6.23709835]), 9.825076142715554], 1, [1])\n",
      "Accuracy: 80.000000\n",
      "coo ([array([-22.53414753,  14.61427058,  16.81894098,  25.85008618]), 19.505618253073735], 1, [5])\n",
      "Accuracy: 74.000000\n",
      "coo ([array([-28.60733154,   9.40598259,  51.29168371,  -8.33964479]), 29.158127905583385], 1, [3])\n",
      "Accuracy: 78.000000\n",
      "coo ([array([-20.8217311 ,   2.92089495,  46.52027118,  -3.09410683]), 19.524216537567973], 1, [2])\n",
      "Accuracy: 78.000000\n",
      "coo ([array([-3.40089663, 13.52367202, 26.09264584, 16.61132413]), 29.05710500277293], 1, [11])\n",
      "Accuracy: 90.000000\n",
      "coo ([array([  5.79543713, -17.10983723,  43.21528831,  29.9001158 ]), 19.5514015807197], 1, [3])\n",
      "Accuracy: 94.000000\n",
      "coo ([array([10.20728282, -6.12210022, 36.76269851, 36.60090473]), 29.021098550416667], 1, [4])\n",
      "Accuracy: 98.000000\n"
     ]
    }
   ],
   "source": [
    "E_array,feature_array,Acc,Rounds,Subs=main(client,w,new,dataset_params,batches,e)"
   ]
  },
  {
   "cell_type": "markdown",
   "metadata": {},
   "source": [
    "### Dataset with no noise y=0\n",
    "***\n",
    "#### Low Dimentions\n",
    "- Balanced\n",
    "- Unbalanced"
   ]
  },
  {
   "cell_type": "code",
   "execution_count": null,
   "metadata": {},
   "outputs": [],
   "source": [
    "#Balanced weights=[0.5,0,5]\n",
    "# 3 different e\n",
    "new=\"yes\"\n",
    "dataset_params[\"weights\"]=[0.5,0.5]\n",
    "Bal_acc_e=[]\n",
    "Bal_rounds_e=[]\n",
    "for i in [0.01,0.05,0.1]:\n",
    "    e=i\n",
    "    E_array,feature_array,Acc,Rounds,Subs=main(client,w,new,dataset_params,100,e)\n",
    "    new=\"no\"\n",
    "    Bal_acc_e.append(Acc)\n",
    "    Bal_rounds_e.append(Rounds)\n",
    "# 3 different bach_sizes\n",
    "Bal_acc_b=[]\n",
    "Bal_rounds_b=[]\n",
    "for i in [10,15,100]:\n",
    "    e=0.01\n",
    "    batches=i\n",
    "    E_array,feature_array,Acc,Rounds,Subs=main(client,w,new,dataset_params,batches,e)\n",
    "    Bal_acc_b.append(Acc)\n",
    "    Bal_rounds_b.append(Rounds)\n",
    "    "
   ]
  },
  {
   "cell_type": "code",
   "execution_count": null,
   "metadata": {},
   "outputs": [],
   "source": [
    "#Unbalanced weights=[0.9,0.1]\n",
    "# 3 different e\n",
    "new=\"yes\"\n",
    "dataset_params[\"weights\"]=[0.9,0.1]\n",
    "Bal_acc=[]\n",
    "Bal_rounds=[[] for i in range(3)]\n",
    "for i in [0.01,0.05,0.1]:\n",
    "    e=i\n",
    "    E_array,feature_array,Acc,Rounds,Subs=main(client,w,new,dataset_params,batches,e)\n",
    "    new=\"no\"\n",
    "    UnBal_acc_e.append(Acc)\n",
    "    UnBal_rounds_e.append(Rounds)\n",
    "# 3 different bach_sizes\n",
    "for i in [10,15,100]:\n",
    "    e=0.01\n",
    "    batches=i\n",
    "    E_array,feature_array,Acc,Rounds,Subs=main(client,w,new,dataset_params,batches,e)\n",
    "    UnBal_acc_b.append(Acc)\n",
    "    UnBal_rounds_b.append(Rounds)"
   ]
  },
  {
   "cell_type": "code",
   "execution_count": null,
   "metadata": {},
   "outputs": [],
   "source": [
    "from jupyterthemes import jtplot\n",
    "from matplotlib.pyplot import figure\n",
    "jtplot.style(theme='grade3') #light plot theme\n",
    "#jtplot.style(theme='monokai')\n",
    "#plots\n",
    "#1.1.a balanced acc-rounds /e (multiple lines one for each e)\n",
    "# multiple line plot\n",
    "figure(figsize=(15,15)) \n",
    "plt.subplot(221)\n",
    "plt.plot(Bal_rounds_e[0], Bal_acc_e[0],label=\"e=0.01\")\n",
    "plt.plot(Bal_rounds_e[1], Bal_acc_e[1],label=\"e=0.05\")\n",
    "plt.plot(Bal_rounds_e[2], Bal_acc_e[2],label=\"e=0.1\")\n",
    "plt.xlabel(\"Rounds\")\n",
    "plt.ylabel(\"Accuracy\")\n",
    "plt.title('1.1.a The behaviour changed with different e \\n in a no noise balanced dataset')\n",
    "plt.legend();\n",
    "\n",
    "plt.subplot(222)\n",
    "plt.plot(Bal_rounds_b[0], Bal_acc_b[0],label=\"baches=10\")\n",
    "plt.plot(Bal_rounds_b[1], Bal_acc_b[1],label=\"baches=100\")\n",
    "plt.plot(Bal_rounds_b[2], Bal_acc_b[2],label=\"baches=1000\")\n",
    "plt.xlabel(\"Rounds\")\n",
    "plt.ylabel(\"Accuracy\")\n",
    "plt.title('1.1.b The behaviour changed with the number of minibatches \\n in a no noise balanced dataset')\n",
    "plt.legend();\n",
    "\n",
    "plt.subplot(223)\n",
    "plt.plot(UnBal_rounds_e[0], UnBal_acc_e[0],label=\"e=0.01\")\n",
    "plt.plot(UnBal_rounds_e[1], UnBal_acc_e[1],label=\"e=0.05\")\n",
    "plt.plot(UnBal_rounds_e[2], UnBal_acc_e[2],label=\"e=0.1\")\n",
    "plt.xlabel(\"Rounds\")\n",
    "plt.ylabel(\"Accuracy\")\n",
    "plt.title('1.2.a The behaviour changed with different e \\n in a no noise Unbalanced dataset')\n",
    "plt.legend();\n",
    "\n",
    "plt.subplot(224)\n",
    "plt.plot(UnBal_rounds_b[0], UnBal_acc_b[0],label=\"baches=10\")\n",
    "plt.plot(UnBal_rounds_b[1], UnBal_acc_b[1],label=\"baches=100\")\n",
    "plt.plot(UnBal_rounds_b[2], UnBal_acc_b[2],label=\"baches=1000\")\n",
    "plt.xlabel(\"Rounds\")\n",
    "plt.ylabel(\"Accuracy\")\n",
    "plt.title('1.2.b The behaviour changed with the number of minibatches \\n in a no noise Unbalanced dataset')\n",
    "\n",
    "plt.show();\n",
    "\n",
    "#1.2.a unbalanced acc-rounds (multiple lines one for each e)\n",
    "#1.2.b unbalanced acc-rounds /baches (multiple lines)\n",
    "\n"
   ]
  },
  {
   "cell_type": "markdown",
   "metadata": {},
   "source": [
    "### Dataset with low level noise y=\n",
    "***\n",
    "#### Low Dimentions\n",
    "- Balanced\n",
    "- Unbalanced"
   ]
  },
  {
   "cell_type": "code",
   "execution_count": null,
   "metadata": {},
   "outputs": [],
   "source": [
    "#Balanced weights=[0.5,0,5]\n",
    "# 3 different e\n",
    "# 3 different bach_sizes"
   ]
  },
  {
   "cell_type": "code",
   "execution_count": null,
   "metadata": {},
   "outputs": [],
   "source": [
    "#Unbalanced weights=[0.9,0.1]\n",
    "# 3 different e\n",
    "# 3 different bach_sizes"
   ]
  },
  {
   "cell_type": "code",
   "execution_count": null,
   "metadata": {},
   "outputs": [],
   "source": [
    "#plots\n",
    "#2.1.a balanced acc-rounds /e (multiple lines one for each e)\n",
    "#2.1.b balanced acc-rounds /baches (multiple lines)\n",
    "#2.2.a unbalanced acc-rounds (multiple lines one for each e)\n",
    "#2.2.b unbalanced acc-rounds /baches (multiple lines)\n",
    "\n"
   ]
  },
  {
   "cell_type": "markdown",
   "metadata": {},
   "source": [
    "### Dataset with average noise level y=\n",
    "***\n",
    "#### Low Dimentions\n",
    "- Balanced\n",
    "- Unbalanced"
   ]
  },
  {
   "cell_type": "code",
   "execution_count": null,
   "metadata": {},
   "outputs": [],
   "source": [
    "#Balanced weights=[0.5,0,5]\n",
    "# 3 different e\n",
    "# 3 different bach_sizes"
   ]
  },
  {
   "cell_type": "code",
   "execution_count": null,
   "metadata": {},
   "outputs": [],
   "source": [
    "#Unbalanced weights=[0.9,0.1]\n",
    "# 3 different e\n",
    "# 3 different bach_sizes"
   ]
  },
  {
   "cell_type": "code",
   "execution_count": null,
   "metadata": {},
   "outputs": [],
   "source": [
    "#plots\n",
    "#3.1.a balanced acc-rounds /e (multiple lines one for each e)\n",
    "#3.1.b balanced acc-rounds /baches (multiple lines)\n",
    "#3.2.a unbalanced acc-rounds (multiple lines one for each e)\n",
    "#3.2.b unbalanced acc-rounds /baches (multiple lines)\n",
    "\n"
   ]
  },
  {
   "cell_type": "markdown",
   "metadata": {},
   "source": [
    "### Real Dataset (Mnist)\n",
    "***"
   ]
  },
  {
   "cell_type": "code",
   "execution_count": null,
   "metadata": {},
   "outputs": [],
   "source": [
    "#load mnist"
   ]
  },
  {
   "cell_type": "code",
   "execution_count": null,
   "metadata": {},
   "outputs": [],
   "source": [
    "# 3 different e\n",
    "# 3 different bach_sizes"
   ]
  },
  {
   "cell_type": "code",
   "execution_count": null,
   "metadata": {},
   "outputs": [],
   "source": [
    "#plots\n",
    "#4.1 acc-rounds /e (multiple lines one for each e)\n",
    "#4.2. acc-rounds /baches (multiple lines)\n"
   ]
  },
  {
   "cell_type": "code",
   "execution_count": null,
   "metadata": {},
   "outputs": [],
   "source": [
    "from main_func import real_partial\n",
    "E2,Acc2=real_partial(100)\n",
    "plt.plot([i for i in range(len(Acc2))],Acc2)"
   ]
  },
  {
   "cell_type": "code",
   "execution_count": null,
   "metadata": {},
   "outputs": [],
   "source": [
    "import matplotlib.pyplot as plt\n",
    "\n",
    "plt.plot(Rounds,Acc)\n",
    "Rounds\n",
    "# plt.legend([i for i in range(len(Acc))], loc='upper left')\n"
   ]
  }
 ],
 "metadata": {
  "kernelspec": {
   "display_name": "Python 3",
   "language": "python",
   "name": "python3"
  },
  "language_info": {
   "codemirror_mode": {
    "name": "ipython",
    "version": 3
   },
   "file_extension": ".py",
   "mimetype": "text/x-python",
   "name": "python",
   "nbconvert_exporter": "python",
   "pygments_lexer": "ipython3",
   "version": "3.7.6"
  }
 },
 "nbformat": 4,
 "nbformat_minor": 4
}
