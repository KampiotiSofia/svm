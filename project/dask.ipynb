{
 "cells": [
  {
   "cell_type": "code",
   "execution_count": 1,
   "metadata": {},
   "outputs": [
    {
     "name": "stdout",
     "output_type": "stream",
     "text": [
      "<Client: 'tcp://127.0.0.1:40435' processes=28 threads=28, memory=33.69 GB>\n"
     ]
    },
    {
     "data": {
      "text/html": [
       "<table style=\"border: 2px solid white;\">\n",
       "<tr>\n",
       "<td style=\"vertical-align: top; border: 0px solid white\">\n",
       "<h3 style=\"text-align: left;\">Client</h3>\n",
       "<ul style=\"text-align: left; list-style: none; margin: 0; padding: 0;\">\n",
       "  <li><b>Scheduler: </b>tcp://127.0.0.1:40435</li>\n",
       "  <li><b>Dashboard: </b><a href='http://127.0.0.1:8787/status' target='_blank'>http://127.0.0.1:8787/status</a>\n",
       "</ul>\n",
       "</td>\n",
       "<td style=\"vertical-align: top; border: 0px solid white\">\n",
       "<h3 style=\"text-align: left;\">Cluster</h3>\n",
       "<ul style=\"text-align: left; list-style:none; margin: 0; padding: 0;\">\n",
       "  <li><b>Workers: </b>28</li>\n",
       "  <li><b>Cores: </b>28</li>\n",
       "  <li><b>Memory: </b>33.69 GB</li>\n",
       "</ul>\n",
       "</td>\n",
       "</tr>\n",
       "</table>"
      ],
      "text/plain": [
       "<Client: 'tcp://127.0.0.1:40435' processes=28 threads=28, memory=33.69 GB>"
      ]
     },
     "execution_count": 1,
     "metadata": {},
     "output_type": "execute_result"
    }
   ],
   "source": [
    "from client import start_client\n",
    "import matplotlib.pyplot as plt\n",
    "import numpy as np\n",
    "import time\n",
    "from matplotlib.pyplot import figure\n",
    "from main_func import main,real_partial\n",
    "from plotting import plot, plot_workers\n",
    "from jupyterthemes import jtplot\n",
    "\n",
    "client,w=start_client(28)\n",
    "client"
   ]
  },
  {
   "cell_type": "markdown",
   "metadata": {},
   "source": [
    "### Main function\n",
    "- make_classification parameters: https://scikit-learn.org/stable/modules/generated/sklearn.datasets.make_classification.html?highlight=make_classification#sklearn.datasets.make_classification\n",
    "- choose e, and chunk size\n",
    "- run multiple times to produce plots\n"
   ]
  },
  {
   "cell_type": "markdown",
   "metadata": {},
   "source": [
    "### Initialize\n",
    "***"
   ]
  },
  {
   "cell_type": "code",
   "execution_count": 2,
   "metadata": {},
   "outputs": [],
   "source": [
    "jtplot.style(theme='grade3') #light plot theme\n",
    "\n",
    "batches=100000 #number of minibatches\n",
    "batch_size=1 #size of each minibatch\n",
    "e=0.8 #tolerance for φ(χ)\n",
    "\n",
    "#compute samples size\n",
    "training_s=batches*batch_size\n",
    "n_samples=int(3*training_s/2) # 1/3 of the samples will be used for testing\n",
    "\n",
    "#parameters for make classification\n",
    "dataset_params={\n",
    "    \"n_samples\":n_samples,\n",
    "    \"n_features\":1000,\n",
    "    \"n_informative\":10,\n",
    "    \"n_redundant\":0,\n",
    "    \"n_repeated\":0,\n",
    "    \"n_classes\":2,\n",
    "    \"n_clusters_per_class\":1,\n",
    "    \"flip_y\":0,\n",
    "    \"weights\":[0.7,0.3],\n",
    "    \"random_state\":17\n",
    "}\n",
    "threshold=0.03\n",
    "\n",
    "chunks=100\n",
    "e_array=[0.3]\n",
    "sizes=[30000,50000,100000,150000,200000,300000]\n",
    "minibatches=[10,50,100]\n",
    "new=\"no\" #choose if you want to recreate the dataset"
   ]
  },
  {
   "cell_type": "markdown",
   "metadata": {},
   "source": [
    "### Dataset with no noise flip_y=0\n",
    "***\n",
    "#### Balanced\n",
    "- weights=[0.5,0,5]"
   ]
  },
  {
   "cell_type": "code",
   "execution_count": 3,
   "metadata": {},
   "outputs": [
    {
     "name": "stdout",
     "output_type": "stream",
     "text": [
      "-------------------------------------------------------------\n",
      "\n",
      "Start with num of chunks: 100 ,e: 0.3\n",
      "Minibatch size: 20.0\n",
      "Number of chunks for each worker:  3\n",
      "In progress...\n",
      "[1, 27, 0.22417283058166504]\n",
      "Accuracy: 88.578000\n",
      "[1, 27, 0.5534613132476807]\n",
      "Accuracy: 89.796000\n",
      "[2, 27, 0.982515811920166]\n",
      "Accuracy: 91.354000\n",
      "[2, 27, 1.3629512786865234]\n",
      "Accuracy: 93.382000\n",
      "[1, 0, 2.0069804191589355]\n",
      "Accuracy: 94.772000\n",
      "\n",
      "**\n",
      " Pass 0 completed\n",
      "**\n",
      "\n",
      "[1, 0, 0.7348134517669678]\n",
      "Accuracy: 95.430000\n",
      "\n",
      "**\n",
      " Pass 1 completed\n",
      "**\n",
      "\n",
      "Total time [2.0069804191589355, 0.7348134517669678]\n"
     ]
    }
   ],
   "source": [
    "# 3 different e\n",
    "new=\"no\"\n",
    "dataset_params[\"weights\"]=[0.5,0.5]\n",
    "Acc_threshold=[]\n",
    "Rounds_threshold=[]\n",
    "Time_threshold=[]\n",
    "labels=[[]]\n",
    "\n",
    "for i in e_array :\n",
    "    e=i\n",
    "    Acc,time_l,total_rounds,total_time=main(client,w,new,dataset_params,e,chunks,minibatches[1])\n",
    "    new=\"no\"\n",
    "    Acc_threshold.append(Acc)\n",
    "    Rounds_threshold.append(total_rounds)\n",
    "    Time_threshold.append(time_l)\n",
    "    time.sleep(5)"
   ]
  },
  {
   "cell_type": "code",
   "execution_count": 4,
   "metadata": {},
   "outputs": [],
   "source": [
    "# centr=client.submit(real_partial,minibatches[1],workers=w[0])\n",
    "# time_centr,Acc_real1,f_acc=centr.result()\n",
    "# time_centr,Acc_real1,f_acc=real_partial(minibatches[1])\n",
    "# len_real1=np.array([i for i in range(len(Acc_real1))])\n",
    "# labels='centralized'\n",
    "# np.save('np_arrays/time_centr',time_centr)\n",
    "# np.save('np_arrays/Acc_real1',Acc_real1)\n",
    "# np.save('np_arrays/f_acc',f_acc)"
   ]
  },
  {
   "cell_type": "code",
   "execution_count": 5,
   "metadata": {},
   "outputs": [
    {
     "ename": "NameError",
     "evalue": "name 'time_centr' is not defined",
     "output_type": "error",
     "traceback": [
      "\u001b[0;31m---------------------------------------------------------------------------\u001b[0m",
      "\u001b[0;31mNameError\u001b[0m                                 Traceback (most recent call last)",
      "\u001b[0;32m<ipython-input-5-86d5f3a8a6b2>\u001b[0m in \u001b[0;36m<module>\u001b[0;34m\u001b[0m\n\u001b[0;32m----> 1\u001b[0;31m \u001b[0mtime_centr\u001b[0m\u001b[0;34m\u001b[0m\u001b[0;34m\u001b[0m\u001b[0m\n\u001b[0m\u001b[1;32m      2\u001b[0m \u001b[0;31m# name=\"Plots/3_Threshold_w_\"+str(len(w))+\"_samples_\"+str(dataset_params[\"n_samples\"])+\"_features_\"+str(dataset_params[\"n_features\"])+\"_e_\"+str(e_array)+\".png\"\u001b[0m\u001b[0;34m\u001b[0m\u001b[0;34m\u001b[0m\u001b[0;34m\u001b[0m\u001b[0m\n\u001b[1;32m      3\u001b[0m \u001b[0;31m# plot(time_centr,Acc_real1,Acc_threshold,Rounds_threshold,Time_threshold,e_array,labels,name,'threshold')\u001b[0m\u001b[0;34m\u001b[0m\u001b[0;34m\u001b[0m\u001b[0;34m\u001b[0m\u001b[0m\n",
      "\u001b[0;31mNameError\u001b[0m: name 'time_centr' is not defined"
     ]
    }
   ],
   "source": [
    "time_centr\n",
    "# name=\"Plots/3_Threshold_w_\"+str(len(w))+\"_samples_\"+str(dataset_params[\"n_samples\"])+\"_features_\"+str(dataset_params[\"n_features\"])+\"_e_\"+str(e_array)+\".png\"\n",
    "# plot(time_centr,Acc_real1,Acc_threshold,Rounds_threshold,Time_threshold,e_array,labels,name,'threshold')"
   ]
  },
  {
   "cell_type": "code",
   "execution_count": null,
   "metadata": {
    "scrolled": true
   },
   "outputs": [],
   "source": [
    "time_centr=np.load('np_arrays/time_centr.npy')\n",
    "f_acc=np.load('np_arrays/f_acc.npy')\n",
    "plot_workers([4,8,12,16,20,24,28,32],time_centr,f_acc)"
   ]
  },
  {
   "cell_type": "code",
   "execution_count": null,
   "metadata": {},
   "outputs": [],
   "source": [
    "from IPython.display import Audio, display\n",
    "display(Audio(url='http://peal.io/download/5e289.wav', autoplay=True))\n",
    "# http://peal.io/download/mr5xx.wav"
   ]
  },
  {
   "cell_type": "code",
   "execution_count": null,
   "metadata": {},
   "outputs": [],
   "source": [
    "# Acc_minibatch=[]\n",
    "# Rounds_minibatch=[]\n",
    "# Time_minibatch=[]\n",
    "# e=0.2\n",
    "# for i in minibatches :\n",
    "#     minibatch=i\n",
    "#     Acc,n_rounds,time_stamps=main(client,w,new,dataset_params,e,chunks,minibatch)\n",
    "#     new=\"no\"\n",
    "#     Acc_minibatch.append(Acc)\n",
    "#     Rounds_minibatch.append(n_rounds)\n",
    "#     Time_minibatch.append(time_stamps)\n",
    "#     time.sleep(5)"
   ]
  },
  {
   "cell_type": "code",
   "execution_count": null,
   "metadata": {},
   "outputs": [],
   "source": [
    "# name=\"Plots/Minibatch_4x_w_\"+str(len(w))+\"_samples_\"+str(dataset_params[\"n_samples\"])+\"_features_\"+str(dataset_params[\"n_features\"])+\"_minib_\"+str(minibatches)+\".png\"\n",
    "# plot(l1,l2,Acc_minibatch,Rounds_minibatch,Time_minibatch,minibatches,labels,name,'minibatches')"
   ]
  },
  {
   "cell_type": "markdown",
   "metadata": {},
   "source": [
    "### Save results"
   ]
  },
  {
   "cell_type": "code",
   "execution_count": null,
   "metadata": {},
   "outputs": [],
   "source": [
    "# f = open(\"result.txt\", \"a\")\n",
    "# f.writelines([\"\\n\\n===========================================================================\"])\n",
    "# f.writelines([\"\\nNEW EXPERIMENT:\\nparams:\",str(dataset_params),\"\\nminibaches_size:\"\n",
    "#               ,str(minibatches),\"\\ndifferent e's:\",str(e_array),\"\\nn_workers: \",str(len(w))])\n",
    "# f.writelines([\"\\n___________________________________________________________________________\"])\n",
    "# f.writelines([\"\\nRESULTS:\\nAcc_threshold\",str(Acc_threshold),\"\\nRounds_threshold\",str(Rounds_threshold),\n",
    "#              \"\\nTime_threshold\",str(Time_threshold),\"\\nlen_real1\",str(len_real1),\"\\nAcc_real1\",str(Acc_real1)])\n",
    "# f.close()"
   ]
  },
  {
   "cell_type": "markdown",
   "metadata": {},
   "source": [
    "### Shutdown client"
   ]
  },
  {
   "cell_type": "code",
   "execution_count": null,
   "metadata": {},
   "outputs": [],
   "source": [
    "client.close()\n",
    "client.shutdown()"
   ]
  }
 ],
 "metadata": {
  "kernelspec": {
   "display_name": "Python 3",
   "language": "python",
   "name": "python3"
  },
  "language_info": {
   "codemirror_mode": {
    "name": "ipython",
    "version": 3
   },
   "file_extension": ".py",
   "mimetype": "text/x-python",
   "name": "python",
   "nbconvert_exporter": "python",
   "pygments_lexer": "ipython3",
   "version": "3.7.6"
  }
 },
 "nbformat": 4,
 "nbformat_minor": 4
}
