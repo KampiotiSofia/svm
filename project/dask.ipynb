{
 "cells": [
  {
   "cell_type": "code",
   "execution_count": 1,
   "metadata": {
    "scrolled": true
   },
   "outputs": [
    {
     "name": "stdout",
     "output_type": "stream",
     "text": [
      "<Client: 'tcp://127.0.0.1:45806' processes=5 threads=5, memory=33.69 GB>\n"
     ]
    },
    {
     "data": {
      "text/html": [
       "<table style=\"border: 2px solid white;\">\n",
       "<tr>\n",
       "<td style=\"vertical-align: top; border: 0px solid white\">\n",
       "<h3 style=\"text-align: left;\">Client</h3>\n",
       "<ul style=\"text-align: left; list-style: none; margin: 0; padding: 0;\">\n",
       "  <li><b>Scheduler: </b>tcp://127.0.0.1:45806</li>\n",
       "  <li><b>Dashboard: </b><a href='http://127.0.0.1:8787/status' target='_blank'>http://127.0.0.1:8787/status</a>\n",
       "</ul>\n",
       "</td>\n",
       "<td style=\"vertical-align: top; border: 0px solid white\">\n",
       "<h3 style=\"text-align: left;\">Cluster</h3>\n",
       "<ul style=\"text-align: left; list-style:none; margin: 0; padding: 0;\">\n",
       "  <li><b>Workers: </b>5</li>\n",
       "  <li><b>Cores: </b>5</li>\n",
       "  <li><b>Memory: </b>33.69 GB</li>\n",
       "</ul>\n",
       "</td>\n",
       "</tr>\n",
       "</table>"
      ],
      "text/plain": [
       "<Client: 'tcp://127.0.0.1:45806' processes=5 threads=5, memory=33.69 GB>"
      ]
     },
     "execution_count": 1,
     "metadata": {},
     "output_type": "execute_result"
    }
   ],
   "source": [
    "from client import start_client\n",
    "import matplotlib.pyplot as plt\n",
    "import numpy as np\n",
    "import time\n",
    "from matplotlib.pyplot import figure\n",
    "from main_func import main,real_partial\n",
    "\n",
    "from jupyterthemes import jtplot\n",
    "\n",
    "client,w=start_client(5)\n",
    "client"
   ]
  },
  {
   "cell_type": "markdown",
   "metadata": {},
   "source": [
    "### Main function\n",
    "- make_classification parameters: https://scikit-learn.org/stable/modules/generated/sklearn.datasets.make_classification.html?highlight=make_classification#sklearn.datasets.make_classification\n",
    "- choose e, and chunk size\n",
    "- run multiple times to produce plots\n"
   ]
  },
  {
   "cell_type": "markdown",
   "metadata": {},
   "source": [
    "### Initialize\n",
    "***"
   ]
  },
  {
   "cell_type": "code",
   "execution_count": 2,
   "metadata": {},
   "outputs": [],
   "source": [
    "jtplot.style(theme='grade3') #light plot theme\n",
    "\n",
    "batches=1000 #number of minibatches\n",
    "batch_size=1 #size of each minibatch\n",
    "e=0.01 #tolerance for φ(χ)\n",
    "\n",
    "#compute samples size\n",
    "training_s=batches*batch_size\n",
    "n_samples=int(3*training_s/2) # 1/3 of the samples will be used for testing\n",
    "\n",
    "#parameters for make classification\n",
    "dataset_params={\n",
    "    \"n_samples\":n_samples,\n",
    "    \"n_features\":10,\n",
    "    \"n_informative\":10,\n",
    "    \"n_redundant\":0,\n",
    "    \"n_repeated\":0,\n",
    "    \"n_classes\":2,\n",
    "    \"n_clusters_per_class\":1,\n",
    "    \"flip_y\":0,\n",
    "    \"weights\":[0.5,0.5],\n",
    "    \"random_state\":17\n",
    "}\n",
    "threshold=0.03\n",
    "\n",
    "chunks=100\n",
    "e_array=[0.01,0.03,0.05]\n",
    "minibaches=[5,50,100]\n",
    "new=\"yes\" #choose if you want to recreate the dataset"
   ]
  },
  {
   "cell_type": "code",
   "execution_count": 3,
   "metadata": {
    "scrolled": false
   },
   "outputs": [
    {
     "name": "stdout",
     "output_type": "stream",
     "text": [
      "Start with num of chunks: 100 and e: 0.03\n",
      "A new dataset has been created...\n",
      "Size of chunk:  10\n",
      "Number of chunks for each worker:  25\n",
      "In progress...\n",
      "coo ([array([ -7.20308226, -13.44191207,  -6.90954545,  13.79148239,\n",
      "        26.67174244, -13.61358276, -20.21963089, -15.93121379,\n",
      "       -11.90364455,   0.34424786]), -2.4875621890547266], 1, 1, 4)\n",
      "Accuracy: 86.000000\n",
      "coo ([array([-17.07018274, -25.2449993 ,   9.69024536,   5.73065208,\n",
      "        21.39869599, -15.86706984, -20.84667372, -20.42806348,\n",
      "        -6.83295143, -12.8872808 ]), -2.4875621890547266], 2, 1, 4)\n",
      "Accuracy: 84.800000\n",
      "coo ([array([ -6.91580242, -18.32980004,   9.21896002,   5.30017336,\n",
      "        29.4746091 , -14.1495395 , -25.1223276 , -17.62019373,\n",
      "       -12.98187341,  -9.89786347]), 2.4604845444020014], 3, 1, 4)\n",
      "Accuracy: 88.400000\n",
      "coo ([array([ -4.77092834, -23.82304676,   8.07539521,   8.86827809,\n",
      "        28.28925404,  -8.82399808, -31.9020871 , -11.21708439,\n",
      "       -11.52491347,  -7.86133479]), -0.00987118682329502], 4, 1, 4)\n",
      "Accuracy: 90.000000\n",
      "coo ([array([ -6.08758027, -18.09307283,  -2.74096573,  10.67590012,\n",
      "        26.68785748,   4.4774307 , -32.64903936,  -1.73157826,\n",
      "       -25.49463331, -18.99660956]), -0.007451688375645471], 5, 1, 4)\n",
      "Accuracy: 97.200000\n",
      "coo ([array([ -4.63832615, -13.10947715,  -2.91275591,   3.13107392,\n",
      "        28.58888901,  11.39176265, -34.64790215,  -4.48384973,\n",
      "       -26.02001514, -18.94093574]), 2.4459339838520284], 6, 1, 4)\n",
      "Accuracy: 98.000000\n",
      "coo ([array([ -9.28793714,  -7.55215693,  -4.14187277,  10.26345682,\n",
      "        28.47316182,  10.59777962, -30.01528924, -18.90930305,\n",
      "       -25.26731644, -21.27525764]), 4.868414604007067], 7, 1, 4)\n",
      "Accuracy: 98.600000\n",
      "coo ([array([ -7.72784938,  -8.74303541,  -1.15395676,   0.98820502,\n",
      "        27.60178885,   9.26273727, -34.08951255, -16.45582981,\n",
      "       -24.35254566, -18.37099699]), 7.238082850452564], 8, 1, 4)\n",
      "Accuracy: 98.800000\n",
      "coo ([array([ -7.08456048, -13.98057264,   4.00296782,  -1.86468736,\n",
      "        24.40863646,   4.10547965, -34.80649631, -10.63187849,\n",
      "       -25.43937371, -21.17727167]), 9.563664245801402], 9, 1, 4)\n",
      "Accuracy: 99.600000\n",
      "coo ([array([-10.10486625, -10.79698952,   2.40313411,  -2.57503017,\n",
      "        26.68422502,   3.00730482, -26.99338962, -17.57068632,\n",
      "       -19.69190669, -32.14372719]), 11.880624394086851], 10, 1, 4)\n",
      "Accuracy: 98.800000\n",
      "coo ([array([ -6.19421077,   2.92271662,  -4.61877738,  -8.32004926,\n",
      "        27.07552487,   8.31030908, -29.16804077, -16.20685583,\n",
      "       -27.90900569, -29.13792488]), 14.193297844595639], 11, 1, 4)\n",
      "Accuracy: 96.600000\n",
      "coo ([array([ -8.56589292,  -0.91101224,  -1.62110506, -15.83600786,\n",
      "        20.79391404,   3.16627858, -29.48248638,  -9.89952996,\n",
      "       -19.9151933 , -40.97721807]), 11.91435527394842], 12, 1, 4)\n",
      "Accuracy: 95.200000\n",
      "coo ([array([ -7.73612403,  -5.83030839,  -9.33094194,  -9.83819048,\n",
      "        21.95461627,  11.31421095, -33.93857086,  -3.3003857 ,\n",
      "       -21.24855776, -38.4827309 ]), 9.641628001221147], 13, 1, 4)\n",
      "Accuracy: 97.800000\n",
      "coo ([array([-13.05765318, -12.35707699,  -6.92369443,   0.31132775,\n",
      "        30.02167415,   5.3680922 , -34.8312025 ,  -2.76732197,\n",
      "       -13.57956639, -43.54556491]), 9.643655230971149], 14, 1, 4)\n",
      "Accuracy: 99.400000\n",
      "coo ([array([-15.8843487 , -19.90976109, -16.17228291,   2.53177717,\n",
      "        29.56675639,   8.18314609, -38.94919637,   0.62694692,\n",
      "       -16.11735562, -33.93610092]), 7.4273431742335605], 15, 1, 4)\n",
      "Accuracy: 98.000000\n",
      "coo ([array([-11.42063655, -24.25233153, -19.87745928,   0.64615025,\n",
      "        27.39238582,  10.99983367, -46.596805  ,   6.15948983,\n",
      "       -20.11628274, -40.22781689]), 7.42929930984853], 16, 1, 4)\n",
      "Accuracy: 96.800000\n",
      "coo ([array([-12.61743185, -22.29817494, -11.08055901, -11.81529069,\n",
      "        23.79497819,   6.42233668, -54.54395051,  -5.40904163,\n",
      "       -19.80324622, -38.76710661]), 11.836528019573567], 17, 1, 4)\n",
      "Accuracy: 98.200000\n",
      "coo ([array([ -7.70406585, -20.51629023,  -9.25506496, -11.28960133,\n",
      "        28.59121689,   3.11739361, -50.92341276, -11.94661121,\n",
      "       -15.37408609, -45.21114712]), 14.03723224492568], 18, 1, 4)\n",
      "Accuracy: 98.800000\n",
      "coo ([array([-17.7678254 , -23.35390551, -10.04533132,  -8.09157936,\n",
      "        32.05101689,  10.05937619, -46.2022198 , -18.29409371,\n",
      "       -22.30082408, -36.34284333]), 11.874602487140212], 19, 1, 4)\n",
      "Accuracy: 99.400000\n",
      "coo ([array([-11.32175068, -14.53057567, -14.23033812,  -9.13409607,\n",
      "        37.66409718,  12.59887461, -40.24916614, -14.71233275,\n",
      "       -24.92796599, -40.02898374]), 13.973678893521404], 20, 1, 4)\n",
      "Accuracy: 99.600000\n",
      "End of chunks...\n",
      "Coordinator: finished ...\n",
      "Workers: ['pending', 'pending', 'pending', 'pending']\n",
      "coo None\n",
      "Accuracy: 99.600000\n",
      "Finished with no error...\n",
      "\n",
      "\n"
     ]
    }
   ],
   "source": [
    "Acc,n_rounds,time_stamps=main(client,w,new,dataset_params,threshold,chunks,minibaches[0])\n"
   ]
  },
  {
   "cell_type": "code",
   "execution_count": null,
   "metadata": {},
   "outputs": [],
   "source": [
    "E_real1,Acc_real1=real_partial(100)\n",
    "len_real1=np.array([i for i in range(len(Acc_real1))])"
   ]
  },
  {
   "cell_type": "code",
   "execution_count": null,
   "metadata": {
    "scrolled": true
   },
   "outputs": [],
   "source": [
    "figure(figsize=(15,15)) \n",
    "plt.subplot(221)\n",
    "\n",
    "print(len(time_stamps),n_rounds)\n",
    "plt.plot([i for i in range(n_rounds)], Acc, marker='o')\n",
    "plt.title('1.1 Accuracy/Rounds for distributed')\n",
    "plt.legend();\n",
    "\n",
    "plt.subplot(222)\n",
    "plt.plot(len_real1,Acc_real1,label=\"balanced\")\n",
    "plt.title('1.1.a Accuracy/Rounds for centralized')\n",
    "\n",
    "# plt.subplot(222)\n",
    "# plt.plot([i for i in range(n_rounds)], time_stamps, marker='o')\n",
    "# plt.title('1.2 Time/Rounds for distributed')\n",
    "plt.legend();\n",
    "plt.show();"
   ]
  },
  {
   "cell_type": "code",
   "execution_count": null,
   "metadata": {},
   "outputs": [],
   "source": [
    "from plotting import plot\n",
    "plot([i for i in range(10)],[i*100 for i in range(10)],[i for i in range(10)],10,[i*100 for i in range(10)])"
   ]
  },
  {
   "cell_type": "code",
   "execution_count": null,
   "metadata": {
    "scrolled": true
   },
   "outputs": [],
   "source": [
    "E_real1,Acc_real1=real_partial(100)\n",
    "len_real1=np.array([i for i in range(len(Acc_real1))])\n",
    "plt.plot(len_real1,Acc_real1,label=\"balanced\")\n",
    "plt.title('1.1.a Accuracy/Rounds for centralized')\n",
    "plt.legend();"
   ]
  },
  {
   "cell_type": "markdown",
   "metadata": {},
   "source": [
    "### Dataset with no noise flip_y=0\n",
    "***\n",
    "#### Balanced\n",
    "- weights=[0.5,0,5]"
   ]
  },
  {
   "cell_type": "code",
   "execution_count": null,
   "metadata": {},
   "outputs": [],
   "source": [
    "# 3 different e\n",
    "new=\"yes\"\n",
    "dataset_params[\"weights\"]=[0.5,0.5]\n",
    "Acc_threshold=[]\n",
    "Rounds_threshold=[]\n",
    "Time_threshold=[]\n",
    "\n",
    "for i in e_array :\n",
    "    e=i\n",
    "    Acc,n_rounds,time_stamps=main(client,w,new,dataset_params,threshold,chunks,n_minibaches)\n",
    "    new=\"no\"\n",
    "    Acc_threshold.append\n",
    "    Rounds_threshold=[]\n",
    "    Time_threshold=[])\n",
    "# 3 different bach_sizes\n",
    "Bal_acc_b=[]\n",
    "Bal_rounds_b=[]\n",
    "bal_b_time=[]\n",
    "\n",
    "for i in minibaches:\n",
    "    e=0.01\n",
    "    batches=i\n",
    "    start_time = time.time()\n",
    "    E_array,feature_array,Acc,Rounds,Subs=main(client,w,new,dataset_params,batches,e,\"balanced\")\n",
    "    end_time = time.time()\n",
    "    bal_b_time.append(end_time-start_time)\n",
    "    Bal_acc_b.append(Acc)\n",
    "    Bal_rounds_b.append(Rounds)\n",
    "    "
   ]
  },
  {
   "cell_type": "code",
   "execution_count": null,
   "metadata": {},
   "outputs": [],
   "source": [
    "E_real1,Acc_real1=real_partial(100)\n",
    "len_real1=np.array([i for i in range(len(Acc_real1))])\n"
   ]
  },
  {
   "cell_type": "markdown",
   "metadata": {},
   "source": [
    "#### Unbalanced\n",
    "***\n",
    "- weights=[0.9,0.1]"
   ]
  },
  {
   "cell_type": "code",
   "execution_count": null,
   "metadata": {},
   "outputs": [],
   "source": [
    "# 3 different e\n",
    "new=\"yes\"\n",
    "dataset_params[\"weights\"]=[0.9,0.1]\n",
    "UnBal_acc_e=[]\n",
    "UnBal_rounds_e=[]\n",
    "unbal_e_time=[]\n",
    "for i in e_array:\n",
    "    e=i\n",
    "    start_time = time.time()\n",
    "    E_array,feature_array,Acc,Rounds,Subs=main(client,w,new,dataset_params,100,e,\"Unbalanced\")\n",
    "    end_time = time.time()\n",
    "    unbal_e_time.append(end_time-start_time)\n",
    "    new=\"no\"\n",
    "    UnBal_acc_e.append(Acc)\n",
    "    UnBal_rounds_e.append(Rounds)\n",
    "# 3 different bach_sizes\n",
    "UnBal_acc_b=[]\n",
    "UnBal_rounds_b=[]\n",
    "unbal_b_time=[]\n",
    "for i in minibaches:\n",
    "    e=0.01\n",
    "    batches=i\n",
    "    start_time = time.time()\n",
    "    E_array,feature_array,Acc,Rounds,Subs=main(client,w,new,dataset_params,batches,e,\"Unbalanced\")\n",
    "    end_time = time.time()\n",
    "    unbal_b_time.append(end_time-start_time)\n",
    "    UnBal_acc_b.append(Acc)\n",
    "    UnBal_rounds_b.append(Rounds)"
   ]
  },
  {
   "cell_type": "markdown",
   "metadata": {},
   "source": [
    "#### Real"
   ]
  },
  {
   "cell_type": "code",
   "execution_count": null,
   "metadata": {},
   "outputs": [],
   "source": [
    "E_real2,Acc_real2=real_partial(100)\n",
    "len_real2=np.array([i for i in range(len(Acc_real2))])"
   ]
  },
  {
   "cell_type": "markdown",
   "metadata": {},
   "source": [
    "### Plots\n",
    "***\n",
    "- No noise"
   ]
  },
  {
   "cell_type": "code",
   "execution_count": null,
   "metadata": {},
   "outputs": [],
   "source": [
    "#1.1.a balanced acc-rounds /e (multiple lines one for each e)\n",
    "figure(figsize=(15,15)) \n",
    "plt.subplot(221)\n",
    "plt.plot(Bal_rounds_e[0], Bal_acc_e[0],label=e_array[0],marker='o')\n",
    "plt.plot(Bal_rounds_e[1], Bal_acc_e[1],label=e_array[1],marker='o')\n",
    "plt.plot(Bal_rounds_e[2], Bal_acc_e[2],label=e_array[2],marker='o')\n",
    "plt.xlabel(\"Rounds\")\n",
    "plt.ylabel(\"Accuracy\")\n",
    "plt.title('1.1.a Accuracy/Rounds for different e \\n in a no noise balanced dataset')\n",
    "plt.legend();\n",
    "\n",
    "plt.subplot(222)\n",
    "plt.plot(Bal_rounds_b[0], Bal_acc_b[0],label=minibaches[0],marker='o')\n",
    "plt.plot(Bal_rounds_b[1], Bal_acc_b[1],label=minibaches[1],marker='o')\n",
    "plt.plot(Bal_rounds_b[2], Bal_acc_b[2],label=minibaches[2],marker='o')\n",
    "plt.xlabel(\"Rounds\")\n",
    "plt.ylabel(\"Accuracy\")\n",
    "plt.title('1.1.b Accuracy/Rounds for different number of minibatches \\n in a no noise balanced dataset')\n",
    "plt.legend();\n",
    "\n",
    "#1.2.a unbalanced acc-rounds (multiple lines one for each e)\n",
    "plt.subplot(223)\n",
    "plt.plot(UnBal_rounds_e[0], UnBal_acc_e[0],label=e_array[0],marker='o')\n",
    "plt.plot(UnBal_rounds_e[1], UnBal_acc_e[1],label=e_array[1],marker='o')\n",
    "plt.plot(UnBal_rounds_e[2], UnBal_acc_e[2],label=e_array[2],marker='o')\n",
    "plt.xlabel(\"Rounds\")\n",
    "plt.ylabel(\"Accuracy\")\n",
    "plt.title('1.2.a Accuracy/Rounds for different e \\n in a no noise Unbalanced dataset')\n",
    "plt.legend();\n",
    "\n",
    "#1.2.b unbalanced acc-rounds /baches (multiple lines)\n",
    "plt.subplot(224)\n",
    "plt.plot(UnBal_rounds_b[0], UnBal_acc_b[0],label=minibaches[0],marker='o')\n",
    "plt.plot(UnBal_rounds_b[1], UnBal_acc_b[1],label=minibaches[1],marker='o')\n",
    "plt.plot(UnBal_rounds_b[2], UnBal_acc_b[2],label=minibaches[2],marker='o')\n",
    "plt.xlabel(\"Rounds\")\n",
    "plt.ylabel(\"Accuracy\")\n",
    "plt.title('1.2.b Accuracy/Rounds for different number of minibatches \\n in a no noise Unbalanced dataset')\n",
    "plt.legend();\n",
    "name=\"Plots/Exper_NoNoise_w_\"+str(len(w))+\"_samples_\"+str(dataset_params[\"n_samples\"])+\"_features_\"+str(dataset_params[\"n_features\"])+\"_minibaches_\"+str(minibaches)+\"_e_\"+str(e_array)+\"_a.png\"\n",
    "plt.savefig(name)\n",
    "plt.show();\n"
   ]
  },
  {
   "cell_type": "markdown",
   "metadata": {},
   "source": [
    "### Plot centralized "
   ]
  },
  {
   "cell_type": "code",
   "execution_count": null,
   "metadata": {
    "scrolled": false
   },
   "outputs": [],
   "source": [
    "\n",
    "plt.plot(len_real1,Acc_real1,label=\"balanced\")\n",
    "plt.plot(len_real2,Acc_real2,label=\"unbalanced\")\n",
    "plt.xlabel(\"Rounds\")\n",
    "plt.ylabel(\"Accuracy\")\n",
    "plt.title('Centralized behaviour')\n",
    "plt.legend();\n",
    "name=\"Plots/Exper_NoNoise_w_\"+str(len(w))+\"_samples_\"+str(dataset_params[\"n_samples\"])+\"_features_\"+str(dataset_params[\"n_features\"])+\"_minibaches_\"+str(minibaches)+\"_e_\"+str(e_array)+\"_b.png\"\n",
    "plt.savefig(name)\n",
    "plt.show();\n"
   ]
  },
  {
   "cell_type": "markdown",
   "metadata": {},
   "source": [
    "### Plot time "
   ]
  },
  {
   "cell_type": "code",
   "execution_count": null,
   "metadata": {
    "scrolled": false
   },
   "outputs": [],
   "source": [
    "\n",
    "figure(figsize=(12,5))\n",
    "\n",
    "plt.subplot(121)\n",
    "plt.plot(e_array,[x / 60 for x in bal_e_time],label=\"balanced\",marker='D')\n",
    "plt.plot(e_array,[x / 60 for x in unbal_e_time],label=\"unbalanced\",marker='o')\n",
    "plt.ylabel(\"time(m)\")\n",
    "plt.xlabel(\"e\")\n",
    "plt.title('Time for different e') \n",
    "plt.legend();\n",
    "\n",
    "plt.subplot(122)\n",
    "plt.plot(minibaches,[x / 60 for x in bal_b_time],label=\"balanced\",marker='D')\n",
    "plt.plot(minibaches,[x / 60 for x in bal_b_time],label=\"unbalanced\",marker='o')\n",
    "plt.ylabel(\"time(m)\")\n",
    "plt.xlabel(\"Num of minibaches\")\n",
    "plt.title('Time for different minibaches')\n",
    "plt.legend();\n",
    "name=\"Plots/Exper_NoNoise_w_\"+str(len(w))+\"_samples_\"+str(dataset_params[\"n_samples\"])+\"_features_\"+str(dataset_params[\"n_features\"])+\"_minibaches_\"+str(minibaches)+\"_e_\"+str(e_array)+\"_c.png\"\n",
    "plt.savefig(name)\n",
    "plt.show();\n"
   ]
  },
  {
   "cell_type": "markdown",
   "metadata": {},
   "source": [
    "### Save results"
   ]
  },
  {
   "cell_type": "code",
   "execution_count": null,
   "metadata": {},
   "outputs": [],
   "source": [
    "f = open(\"result.txt\", \"a\")\n",
    "f.writelines([\"\\n\\n\\nNEW EXPERIMENT:\\nparams:\",str(dataset_params),\"\\nminibaches_size:\"\n",
    "              ,str(minibaches),\"\\ndifferent e's:\",str(e_array),\"\\nn_workers: \",str(len(w))])\n",
    "f.writelines([\"\\n\\nRESULTS:\\nBal_rounds_e\",str(Bal_rounds_e),\"\\nBal_acc_e\",str(Bal_acc_e),\n",
    "            \"\\nBal_rounds_b\",str(Bal_rounds_b),\"\\nBal_acc_b\",str(Bal_acc_b),\"\\nUnBal_rounds_e\", \n",
    "              str(UnBal_rounds_e),\"\\nUnBal_acc_e\",str(UnBal_acc_e),\"\\nUnBal_rounds_b\",\n",
    "              str(UnBal_rounds_b),\"\\nBal_acc_b\",str(UnBal_acc_b),\"\\nbal_e_time\",str(bal_e_time),\n",
    "              \"\\nbal_b_time\",str(bal_b_time),\"\\nunbal_e_time\",str(unbal_e_time),\n",
    "              \"\\nunbal_b_time\",str(unbal_b_time),\"\\nlen_real1\",str(len_real1),\n",
    "              \"\\nAcc_real1\",str(Acc_real1),\"\\nlen_real2\",str(len_real2),\n",
    "              \"\\nAcc_real2\",str(Acc_real2)])\n",
    "f.close()"
   ]
  },
  {
   "cell_type": "markdown",
   "metadata": {},
   "source": [
    "### Shutdown client"
   ]
  },
  {
   "cell_type": "code",
   "execution_count": null,
   "metadata": {},
   "outputs": [],
   "source": [
    "client.close()\n",
    "client.shutdown()"
   ]
  },
  {
   "cell_type": "code",
   "execution_count": null,
   "metadata": {},
   "outputs": [],
   "source": []
  }
 ],
 "metadata": {
  "kernelspec": {
   "display_name": "Python 3",
   "language": "python",
   "name": "python3"
  },
  "language_info": {
   "codemirror_mode": {
    "name": "ipython",
    "version": 3
   },
   "file_extension": ".py",
   "mimetype": "text/x-python",
   "name": "python",
   "nbconvert_exporter": "python",
   "pygments_lexer": "ipython3",
   "version": "3.7.6"
  }
 },
 "nbformat": 4,
 "nbformat_minor": 4
}
