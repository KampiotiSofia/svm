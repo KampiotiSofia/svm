{
 "cells": [
  {
   "cell_type": "code",
   "execution_count": 1,
   "metadata": {
    "scrolled": true
   },
   "outputs": [
    {
     "name": "stdout",
     "output_type": "stream",
     "text": [
      "<Client: 'tcp://127.0.0.1:41169' processes=4 threads=4, memory=33.69 GB>\n"
     ]
    },
    {
     "data": {
      "text/html": [
       "<table style=\"border: 2px solid white;\">\n",
       "<tr>\n",
       "<td style=\"vertical-align: top; border: 0px solid white\">\n",
       "<h3 style=\"text-align: left;\">Client</h3>\n",
       "<ul style=\"text-align: left; list-style: none; margin: 0; padding: 0;\">\n",
       "  <li><b>Scheduler: </b>tcp://127.0.0.1:41169</li>\n",
       "  <li><b>Dashboard: </b><a href='http://127.0.0.1:8787/status' target='_blank'>http://127.0.0.1:8787/status</a>\n",
       "</ul>\n",
       "</td>\n",
       "<td style=\"vertical-align: top; border: 0px solid white\">\n",
       "<h3 style=\"text-align: left;\">Cluster</h3>\n",
       "<ul style=\"text-align: left; list-style:none; margin: 0; padding: 0;\">\n",
       "  <li><b>Workers: </b>4</li>\n",
       "  <li><b>Cores: </b>4</li>\n",
       "  <li><b>Memory: </b>33.69 GB</li>\n",
       "</ul>\n",
       "</td>\n",
       "</tr>\n",
       "</table>"
      ],
      "text/plain": [
       "<Client: 'tcp://127.0.0.1:41169' processes=4 threads=4, memory=33.69 GB>"
      ]
     },
     "execution_count": 1,
     "metadata": {},
     "output_type": "execute_result"
    }
   ],
   "source": [
    "from client import start_client\n",
    "import matplotlib.pyplot as plt\n",
    "import numpy as np\n",
    "import time\n",
    "from matplotlib.pyplot import figure\n",
    "from main_func import main,real_partial\n",
    "from plotting import plot\n",
    "from jupyterthemes import jtplot\n",
    "\n",
    "client,w=start_client(4)\n",
    "client"
   ]
  },
  {
   "cell_type": "markdown",
   "metadata": {},
   "source": [
    "### Main function\n",
    "- make_classification parameters: https://scikit-learn.org/stable/modules/generated/sklearn.datasets.make_classification.html?highlight=make_classification#sklearn.datasets.make_classification\n",
    "- choose e, and chunk size\n",
    "- run multiple times to produce plots\n"
   ]
  },
  {
   "cell_type": "markdown",
   "metadata": {},
   "source": [
    "### Initialize\n",
    "***"
   ]
  },
  {
   "cell_type": "code",
   "execution_count": 2,
   "metadata": {},
   "outputs": [],
   "source": [
    "jtplot.style(theme='grade3') #light plot theme\n",
    "\n",
    "batches=30000 #number of minibatches\n",
    "batch_size=1 #size of each minibatch\n",
    "e=0.8 #tolerance for φ(χ)\n",
    "\n",
    "#compute samples size\n",
    "training_s=batches*batch_size\n",
    "n_samples=int(3*training_s/2) # 1/3 of the samples will be used for testing\n",
    "\n",
    "#parameters for make classification\n",
    "dataset_params={\n",
    "    \"n_samples\":n_samples,\n",
    "    \"n_features\":1000,\n",
    "    \"n_informative\":10,\n",
    "    \"n_redundant\":0,\n",
    "    \"n_repeated\":0,\n",
    "    \"n_classes\":2,\n",
    "    \"n_clusters_per_class\":1,\n",
    "    \"flip_y\":0,\n",
    "    \"weights\":[0.7,0.3],\n",
    "    \"random_state\":17\n",
    "}\n",
    "threshold=0.03\n",
    "\n",
    "chunks=100\n",
    "e_array=[0.05,0.1,0.2,0.3,0.4,0.5,0.6,0.7,0.8]\n",
    "sizes=[30000,50000,100000,150000,200000,300000]\n",
    "minibatches=[10,50,100]\n",
    "new=\"no\" #choose if you want to recreate the dataset"
   ]
  },
  {
   "cell_type": "markdown",
   "metadata": {},
   "source": [
    "### Dataset with no noise flip_y=0\n",
    "***\n",
    "#### Balanced\n",
    "- weights=[0.5,0,5]"
   ]
  },
  {
   "cell_type": "code",
   "execution_count": null,
   "metadata": {},
   "outputs": [
    {
     "name": "stdout",
     "output_type": "stream",
     "text": [
      "-------------------------------------------------------------\n",
      "\n",
      "Start with num of chunks: 100 ,e: 0.05\n",
      "Minibatch size: 30.0\n",
      "Number of chunks for each worker:  33\n",
      "In progress...\n",
      "coo (1, 1, 3)\n",
      "Accuracy: 79.920000\n",
      "coo (2, 1, 3)\n",
      "Accuracy: 80.760000\n",
      "coo (3, 1, 3)\n",
      "Accuracy: 82.126667\n",
      "coo (4, 1, 3)\n",
      "Accuracy: 83.200000\n",
      "coo (5, 1, 3)\n",
      "Accuracy: 84.126667\n",
      "coo (6, 1, 3)\n",
      "Accuracy: 84.340000\n",
      "coo (7, 1, 3)\n",
      "Accuracy: 85.713333\n",
      "coo (8, 1, 3)\n",
      "Accuracy: 86.000000\n",
      "coo (9, 1, 3)\n",
      "Accuracy: 86.386667\n",
      "coo (10, 1, 3)\n",
      "Accuracy: 86.813333\n",
      "coo (11, 1, 3)\n",
      "Accuracy: 86.986667\n",
      "coo (12, 2, 3)\n",
      "Accuracy: 87.700000\n",
      "coo (13, 1, 3)\n",
      "Accuracy: 87.740000\n",
      "coo (14, 1, 3)\n",
      "Accuracy: 87.833333\n",
      "coo (15, 1, 3)\n",
      "Accuracy: 88.286667\n",
      "coo (16, 1, 3)\n",
      "Accuracy: 88.066667\n",
      "coo (17, 1, 3)\n",
      "Accuracy: 88.360000\n",
      "coo (18, 1, 3)\n",
      "Accuracy: 88.486667\n",
      "coo (19, 1, 3)\n",
      "Accuracy: 88.993333\n",
      "coo (20, 2, 3)\n",
      "Accuracy: 89.160000\n",
      "coo (21, 1, 3)\n",
      "Accuracy: 89.086667\n",
      "coo (22, 2, 3)\n",
      "Accuracy: 89.120000\n",
      "coo (23, 1, 3)\n",
      "Accuracy: 89.466667\n",
      "coo (24, 2, 3)\n",
      "Accuracy: 89.346667\n",
      "coo (25, 2, 3)\n",
      "Accuracy: 89.386667\n",
      "coo (26, 1, 3)\n",
      "Accuracy: 89.786667\n",
      "coo (27, 1, 3)\n",
      "Accuracy: 89.500000\n",
      "coo (28, 1, 3)\n",
      "Accuracy: 89.573333\n",
      "coo (29, 1, 3)\n",
      "Accuracy: 90.320000\n",
      "coo (30, 1, 3)\n",
      "Accuracy: 90.693333\n",
      "coo (31, 1, 3)\n",
      "Accuracy: 91.006667\n",
      "coo (32, 1, 3)\n",
      "Accuracy: 90.966667\n",
      "coo (33, 2, 3)\n",
      "Accuracy: 91.160000\n",
      "coo (34, 1, 3)\n",
      "Accuracy: 91.386667\n"
     ]
    }
   ],
   "source": [
    "# 3 different e\n",
    "new=\"no\"\n",
    "dataset_params[\"weights\"]=[0.5,0.5]\n",
    "Acc_threshold=[]\n",
    "Rounds_threshold=[]\n",
    "Time_threshold=[]\n",
    "labels=[[]]\n",
    "l1=[[]]\n",
    "l2=[[]]\n",
    "\n",
    "for i in e_array :\n",
    "    e=i\n",
    "    Acc,n_rounds,time_stamps=main(client,w,new,dataset_params,e,chunks,minibatches[0])\n",
    "    new=\"no\"\n",
    "    Acc_threshold.append(Acc)\n",
    "    Rounds_threshold.append(n_rounds)\n",
    "    Time_threshold.append(time_stamps)\n",
    "    time.sleep(5)\n",
    "E_real1,Acc_real1=real_partial(chunks*minibatches[0])\n",
    "len_real1=np.array([i for i in range(len(Acc_real1))])\n",
    "\n",
    "labels[0]=\"Real\"\n",
    "\n",
    "l1[0]=len_real1\n",
    "l2[0]=Acc_real1"
   ]
  },
  {
   "cell_type": "code",
   "execution_count": null,
   "metadata": {},
   "outputs": [],
   "source": [
    "name=\"Plots/3_Threshold_w_\"+str(len(w))+\"_samples_\"+str(dataset_params[\"n_samples\"])+\"_features_\"+str(dataset_params[\"n_features\"])+\"_e_\"+str(e_array)+\".png\"\n",
    "plot(l1,l2,Acc_threshold,Rounds_threshold,Time_threshold,e_array,labels,name,'threshold')"
   ]
  },
  {
   "cell_type": "code",
   "execution_count": null,
   "metadata": {},
   "outputs": [],
   "source": [
    "from IPython.display import Audio, display\n",
    "display(Audio(url='http://peal.io/download/5e289.wav', autoplay=True))\n",
    "# http://peal.io/download/mr5xx.wav"
   ]
  },
  {
   "cell_type": "code",
   "execution_count": null,
   "metadata": {},
   "outputs": [],
   "source": [
    "# Acc_minibatch=[]\n",
    "# Rounds_minibatch=[]\n",
    "# Time_minibatch=[]\n",
    "# e=0.2\n",
    "# for i in minibatches :\n",
    "#     minibatch=i\n",
    "#     Acc,n_rounds,time_stamps=main(client,w,new,dataset_params,e,chunks,minibatch)\n",
    "#     new=\"no\"\n",
    "#     Acc_minibatch.append(Acc)\n",
    "#     Rounds_minibatch.append(n_rounds)\n",
    "#     Time_minibatch.append(time_stamps)\n",
    "#     time.sleep(5)"
   ]
  },
  {
   "cell_type": "code",
   "execution_count": null,
   "metadata": {},
   "outputs": [],
   "source": [
    "# name=\"Plots/Minibatch_4x_w_\"+str(len(w))+\"_samples_\"+str(dataset_params[\"n_samples\"])+\"_features_\"+str(dataset_params[\"n_features\"])+\"_minib_\"+str(minibatches)+\".png\"\n",
    "# plot(l1,l2,Acc_minibatch,Rounds_minibatch,Time_minibatch,minibatches,labels,name,'minibatches')"
   ]
  },
  {
   "cell_type": "markdown",
   "metadata": {},
   "source": [
    "### Save results"
   ]
  },
  {
   "cell_type": "code",
   "execution_count": null,
   "metadata": {},
   "outputs": [],
   "source": [
    "f = open(\"result.txt\", \"a\")\n",
    "f.writelines([\"\\n\\n===========================================================================\"])\n",
    "f.writelines([\"\\nNEW EXPERIMENT:\\nparams:\",str(dataset_params),\"\\nminibaches_size:\"\n",
    "              ,str(minibatches),\"\\ndifferent e's:\",str(e_array),\"\\nn_workers: \",str(len(w))])\n",
    "f.writelines([\"\\n___________________________________________________________________________\"])\n",
    "f.writelines([\"\\nRESULTS:\\nAcc_threshold\",str(Acc_threshold),\"\\nRounds_threshold\",str(Rounds_threshold),\n",
    "             \"\\nTime_threshold\",str(Time_threshold),\"\\nlen_real1\",str(len_real1),\"\\nAcc_real1\",str(Acc_real1)])\n",
    "f.close()"
   ]
  },
  {
   "cell_type": "markdown",
   "metadata": {},
   "source": [
    "### Shutdown client"
   ]
  },
  {
   "cell_type": "code",
   "execution_count": null,
   "metadata": {},
   "outputs": [],
   "source": [
    "client.close()\n",
    "client.shutdown()"
   ]
  }
 ],
 "metadata": {
  "kernelspec": {
   "display_name": "Python 3",
   "language": "python",
   "name": "python3"
  },
  "language_info": {
   "codemirror_mode": {
    "name": "ipython",
    "version": 3
   },
   "file_extension": ".py",
   "mimetype": "text/x-python",
   "name": "python",
   "nbconvert_exporter": "python",
   "pygments_lexer": "ipython3",
   "version": "3.7.6"
  }
 },
 "nbformat": 4,
 "nbformat_minor": 4
}
